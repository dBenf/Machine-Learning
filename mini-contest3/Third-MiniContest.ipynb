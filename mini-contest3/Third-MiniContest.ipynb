{
  "nbformat": 4,
  "nbformat_minor": 0,
  "metadata": {
    "colab": {
      "name": "Mini_Contest_3.ipynb",
      "provenance": [],
      "collapsed_sections": [],
      "toc_visible": true
    },
    "kernelspec": {
      "name": "python3",
      "display_name": "Python 3"
    }
  },
  "cells": [
    {
      "cell_type": "markdown",
      "metadata": {
        "id": "7xwlR4d47xys"
      },
      "source": [
        "# **Istruzioni**\n",
        "\n",
        "Questo è un semplice notebook di esempio che mostra come effettuare il fine tuning di una rete pre-addestrata.\n",
        "\n",
        "Per l'implementazione è stata ultilizzata la libreria di python PyTorch\n",
        "https://pytorch.org/docs/stable/index.html\n",
        "\n"
      ]
    },
    {
      "cell_type": "markdown",
      "metadata": {
        "id": "QnaW9C-w--a-"
      },
      "source": [
        "#Connessione a Drive"
      ]
    },
    {
      "cell_type": "code",
      "metadata": {
        "id": "eLYH4Ib8-4Ai",
        "colab": {
          "base_uri": "https://localhost:8080/"
        },
        "outputId": "b44d9dc3-8006-4e30-bb81-6c3271733de3"
      },
      "source": [
        "from google.colab import drive\n",
        "drive.mount('/content/drive')"
      ],
      "execution_count": null,
      "outputs": [
        {
          "output_type": "stream",
          "name": "stdout",
          "text": [
            "Mounted at /content/drive\n"
          ]
        }
      ]
    },
    {
      "cell_type": "markdown",
      "metadata": {
        "id": "GU1CqptU_EOn"
      },
      "source": [
        "# Import delle librerie utili"
      ]
    },
    {
      "cell_type": "code",
      "metadata": {
        "id": "R0SMgzYQ__fw"
      },
      "source": [
        "###########################\n",
        "# IMPORT\n",
        "import scipy.io as sio\n",
        "import pandas as pd\n",
        "import torch\n",
        "import torch.nn as nn\n",
        "import torch.optim as optim\n",
        "from torch.optim import lr_scheduler\n",
        "import numpy as np\n",
        "import torchvision\n",
        "from torchvision import datasets, models, transforms\n",
        "import torch.utils.data as dataloader\n",
        "import matplotlib.pyplot as plt\n",
        "import time\n",
        "import os\n",
        "import shutil\n",
        "import copy\n",
        "import random\n",
        "from random import shuffle\n",
        "import matplotlib.pyplot as plt\n",
        "######################################"
      ],
      "execution_count": null,
      "outputs": []
    },
    {
      "cell_type": "markdown",
      "metadata": {
        "id": "pIqUXUmoA541"
      },
      "source": [
        "# Collegamento alla GPU offerta da Google\n"
      ]
    },
    {
      "cell_type": "code",
      "metadata": {
        "id": "P2pe5Zh2A4Ui",
        "colab": {
          "base_uri": "https://localhost:8080/",
          "height": 414
        },
        "outputId": "9e54ce3f-df00-4614-9ebf-fc5d8a2ffa85"
      },
      "source": [
        "print(torch.__version__)\n",
        "print(torch.cuda.is_available())\n",
        "print(torch.cuda.get_device_name(0))\n",
        "device = torch.device(\"cuda:0\" if torch.cuda.is_available() else \"cpu\")\n",
        "print(device)"
      ],
      "execution_count": null,
      "outputs": [
        {
          "output_type": "stream",
          "name": "stdout",
          "text": [
            "1.10.0+cu111\n",
            "False\n"
          ]
        },
        {
          "output_type": "error",
          "ename": "RuntimeError",
          "evalue": "ignored",
          "traceback": [
            "\u001b[0;31m---------------------------------------------------------------------------\u001b[0m",
            "\u001b[0;31mRuntimeError\u001b[0m                              Traceback (most recent call last)",
            "\u001b[0;32m<ipython-input-5-b8db1123ff83>\u001b[0m in \u001b[0;36m<module>\u001b[0;34m()\u001b[0m\n\u001b[1;32m      1\u001b[0m \u001b[0mprint\u001b[0m\u001b[0;34m(\u001b[0m\u001b[0mtorch\u001b[0m\u001b[0;34m.\u001b[0m\u001b[0m__version__\u001b[0m\u001b[0;34m)\u001b[0m\u001b[0;34m\u001b[0m\u001b[0;34m\u001b[0m\u001b[0m\n\u001b[1;32m      2\u001b[0m \u001b[0mprint\u001b[0m\u001b[0;34m(\u001b[0m\u001b[0mtorch\u001b[0m\u001b[0;34m.\u001b[0m\u001b[0mcuda\u001b[0m\u001b[0;34m.\u001b[0m\u001b[0mis_available\u001b[0m\u001b[0;34m(\u001b[0m\u001b[0;34m)\u001b[0m\u001b[0;34m)\u001b[0m\u001b[0;34m\u001b[0m\u001b[0;34m\u001b[0m\u001b[0m\n\u001b[0;32m----> 3\u001b[0;31m \u001b[0mprint\u001b[0m\u001b[0;34m(\u001b[0m\u001b[0mtorch\u001b[0m\u001b[0;34m.\u001b[0m\u001b[0mcuda\u001b[0m\u001b[0;34m.\u001b[0m\u001b[0mget_device_name\u001b[0m\u001b[0;34m(\u001b[0m\u001b[0;36m0\u001b[0m\u001b[0;34m)\u001b[0m\u001b[0;34m)\u001b[0m\u001b[0;34m\u001b[0m\u001b[0;34m\u001b[0m\u001b[0m\n\u001b[0m\u001b[1;32m      4\u001b[0m \u001b[0mdevice\u001b[0m \u001b[0;34m=\u001b[0m \u001b[0mtorch\u001b[0m\u001b[0;34m.\u001b[0m\u001b[0mdevice\u001b[0m\u001b[0;34m(\u001b[0m\u001b[0;34m\"cuda:0\"\u001b[0m \u001b[0;32mif\u001b[0m \u001b[0mtorch\u001b[0m\u001b[0;34m.\u001b[0m\u001b[0mcuda\u001b[0m\u001b[0;34m.\u001b[0m\u001b[0mis_available\u001b[0m\u001b[0;34m(\u001b[0m\u001b[0;34m)\u001b[0m \u001b[0;32melse\u001b[0m \u001b[0;34m\"cpu\"\u001b[0m\u001b[0;34m)\u001b[0m\u001b[0;34m\u001b[0m\u001b[0;34m\u001b[0m\u001b[0m\n\u001b[1;32m      5\u001b[0m \u001b[0mprint\u001b[0m\u001b[0;34m(\u001b[0m\u001b[0mdevice\u001b[0m\u001b[0;34m)\u001b[0m\u001b[0;34m\u001b[0m\u001b[0;34m\u001b[0m\u001b[0m\n",
            "\u001b[0;32m/usr/local/lib/python3.7/dist-packages/torch/cuda/__init__.py\u001b[0m in \u001b[0;36mget_device_name\u001b[0;34m(device)\u001b[0m\n\u001b[1;32m    324\u001b[0m         \u001b[0mstr\u001b[0m\u001b[0;34m:\u001b[0m \u001b[0mthe\u001b[0m \u001b[0mname\u001b[0m \u001b[0mof\u001b[0m \u001b[0mthe\u001b[0m \u001b[0mdevice\u001b[0m\u001b[0;34m\u001b[0m\u001b[0;34m\u001b[0m\u001b[0m\n\u001b[1;32m    325\u001b[0m     \"\"\"\n\u001b[0;32m--> 326\u001b[0;31m     \u001b[0;32mreturn\u001b[0m \u001b[0mget_device_properties\u001b[0m\u001b[0;34m(\u001b[0m\u001b[0mdevice\u001b[0m\u001b[0;34m)\u001b[0m\u001b[0;34m.\u001b[0m\u001b[0mname\u001b[0m\u001b[0;34m\u001b[0m\u001b[0;34m\u001b[0m\u001b[0m\n\u001b[0m\u001b[1;32m    327\u001b[0m \u001b[0;34m\u001b[0m\u001b[0m\n\u001b[1;32m    328\u001b[0m \u001b[0;34m\u001b[0m\u001b[0m\n",
            "\u001b[0;32m/usr/local/lib/python3.7/dist-packages/torch/cuda/__init__.py\u001b[0m in \u001b[0;36mget_device_properties\u001b[0;34m(device)\u001b[0m\n\u001b[1;32m    354\u001b[0m         \u001b[0m_CudaDeviceProperties\u001b[0m\u001b[0;34m:\u001b[0m \u001b[0mthe\u001b[0m \u001b[0mproperties\u001b[0m \u001b[0mof\u001b[0m \u001b[0mthe\u001b[0m \u001b[0mdevice\u001b[0m\u001b[0;34m\u001b[0m\u001b[0;34m\u001b[0m\u001b[0m\n\u001b[1;32m    355\u001b[0m     \"\"\"\n\u001b[0;32m--> 356\u001b[0;31m     \u001b[0m_lazy_init\u001b[0m\u001b[0;34m(\u001b[0m\u001b[0;34m)\u001b[0m  \u001b[0;31m# will define _get_device_properties\u001b[0m\u001b[0;34m\u001b[0m\u001b[0;34m\u001b[0m\u001b[0m\n\u001b[0m\u001b[1;32m    357\u001b[0m     \u001b[0mdevice\u001b[0m \u001b[0;34m=\u001b[0m \u001b[0m_get_device_index\u001b[0m\u001b[0;34m(\u001b[0m\u001b[0mdevice\u001b[0m\u001b[0;34m,\u001b[0m \u001b[0moptional\u001b[0m\u001b[0;34m=\u001b[0m\u001b[0;32mTrue\u001b[0m\u001b[0;34m)\u001b[0m\u001b[0;34m\u001b[0m\u001b[0;34m\u001b[0m\u001b[0m\n\u001b[1;32m    358\u001b[0m     \u001b[0;32mif\u001b[0m \u001b[0mdevice\u001b[0m \u001b[0;34m<\u001b[0m \u001b[0;36m0\u001b[0m \u001b[0;32mor\u001b[0m \u001b[0mdevice\u001b[0m \u001b[0;34m>=\u001b[0m \u001b[0mdevice_count\u001b[0m\u001b[0;34m(\u001b[0m\u001b[0;34m)\u001b[0m\u001b[0;34m:\u001b[0m\u001b[0;34m\u001b[0m\u001b[0;34m\u001b[0m\u001b[0m\n",
            "\u001b[0;32m/usr/local/lib/python3.7/dist-packages/torch/cuda/__init__.py\u001b[0m in \u001b[0;36m_lazy_init\u001b[0;34m()\u001b[0m\n\u001b[1;32m    212\u001b[0m         \u001b[0;31m# This function throws if there's a driver initialization error, no GPUs\u001b[0m\u001b[0;34m\u001b[0m\u001b[0;34m\u001b[0m\u001b[0;34m\u001b[0m\u001b[0m\n\u001b[1;32m    213\u001b[0m         \u001b[0;31m# are found or any other error occurs\u001b[0m\u001b[0;34m\u001b[0m\u001b[0;34m\u001b[0m\u001b[0;34m\u001b[0m\u001b[0m\n\u001b[0;32m--> 214\u001b[0;31m         \u001b[0mtorch\u001b[0m\u001b[0;34m.\u001b[0m\u001b[0m_C\u001b[0m\u001b[0;34m.\u001b[0m\u001b[0m_cuda_init\u001b[0m\u001b[0;34m(\u001b[0m\u001b[0;34m)\u001b[0m\u001b[0;34m\u001b[0m\u001b[0;34m\u001b[0m\u001b[0m\n\u001b[0m\u001b[1;32m    215\u001b[0m         \u001b[0;31m# Some of the queued calls may reentrantly call _lazy_init();\u001b[0m\u001b[0;34m\u001b[0m\u001b[0;34m\u001b[0m\u001b[0;34m\u001b[0m\u001b[0m\n\u001b[1;32m    216\u001b[0m         \u001b[0;31m# we need to just return without initializing in that case.\u001b[0m\u001b[0;34m\u001b[0m\u001b[0;34m\u001b[0m\u001b[0;34m\u001b[0m\u001b[0m\n",
            "\u001b[0;31mRuntimeError\u001b[0m: No CUDA GPUs are available"
          ]
        }
      ]
    },
    {
      "cell_type": "markdown",
      "source": [
        "# Dataloaders"
      ],
      "metadata": {
        "id": "QB-Yi-qS468_"
      }
    },
    {
      "cell_type": "code",
      "source": [
        "class NumpyDataset(dataloader.Dataset):\n",
        "  def __init__(self, root_path):\n",
        "    self.data_numpy_list = next(os.walk(root_path))[2] \n",
        "    self.data_list = []\n",
        "    self.class_list = []\n",
        "    for ind in range(len(self.data_numpy_list)):\n",
        "      data_slice_file_name = root_path + self.data_numpy_list[ind]\n",
        "      data_i = np.load(data_slice_file_name, allow_pickle=True)\n",
        "      self.data_list.append(data_i[0])\n",
        "      self.class_list.append(data_i[1])\n",
        "\n",
        "  def __getitem__(self, index):\n",
        "    self.data = np.asarray(self.data_list[index])\n",
        "    self.data = np.resize(self.data,(224,224))   #resize\n",
        "    self.data = np.stack((self.data, self.data, self.data))   #1 to 3 channels\n",
        "    self.data[0,:,:] = (self.data[0,:,:] - 0.485)/0.229       #norm channel 0\n",
        "    self.data[1,:,:] = (self.data[1,:,:] - 0.456)/0.224       #norm channel 1\n",
        "    self.data[0,:,:] = (self.data[2,:,:] - 0.406)/0.225       #norm channel 2\n",
        "    return torch.from_numpy(self.data).float(), self.class_list[index]\n",
        "\n",
        "  def __len__(self):\n",
        "    return len(self.data_numpy_list)\n",
        "    \n"
      ],
      "metadata": {
        "id": "Gz3MFOWm4-Ys"
      },
      "execution_count": null,
      "outputs": []
    },
    {
      "cell_type": "markdown",
      "source": [
        "# Utility per il managment dei dati per la CNN"
      ],
      "metadata": {
        "id": "rQdKVuYw9X5Y"
      }
    },
    {
      "cell_type": "code",
      "source": [
        "image_datasets = {x: NumpyDataset(\"/content/drive/MyDrive/Dataset/\" + x +\"/\") for x in ['training_set',\n",
        "                                                                                        'validation_set']}\n",
        "\n",
        "dataloaders = {x: torch.utils.data.DataLoader(image_datasets[x], batch_size=4,\n",
        "                                             shuffle=True, num_workers=4) for x in ['training_set', \n",
        "                                                                                    'validation_set']}\n",
        "\n",
        "dataset_sizes = {x: len(image_datasets[x]) for x in ['training_set', 'validation_set']}\n",
        "\n",
        "print(str(dataset_sizes['training_set']) + \" Training set dimension before split\")\n",
        "print(str(dataset_sizes['validation_set']) + \" Validation set dimension\")\n",
        "\n",
        "local_test, train = torch.utils.data.random_split(image_datasets['training_set'], [170,687])\n",
        "image_datasets['test_set'] = local_test\n",
        "image_datasets['training_set'] = train\n",
        "\n",
        "dataloaders = {x: torch.utils.data.DataLoader(image_datasets[x], batch_size=4,\n",
        "                                             shuffle=True, num_workers=4) for x in ['training_set', \n",
        "                                                                                    'validation_set', \n",
        "                                                                                    'test_set']}\n",
        "dataset_sizes = {x: len(image_datasets[x]) for x in ['training_set', 'validation_set', 'test_set']}\n",
        "print('---'*5)\n",
        "print(str(dataset_sizes['training_set']) + \" Training set dimension after split\")\n",
        "print(str(dataset_sizes['validation_set']) + \" Validation set dimension\")\n",
        "print(str(dataset_sizes['test_set']) + \" Local test set dimension after split\")"
      ],
      "metadata": {
        "id": "CZojqHLv9VMr",
        "colab": {
          "base_uri": "https://localhost:8080/"
        },
        "outputId": "d841e40d-95dc-4d6e-b8f4-601b9c82bc2e"
      },
      "execution_count": null,
      "outputs": [
        {
          "output_type": "stream",
          "name": "stdout",
          "text": [
            "857 Training set dimension before split\n",
            "170 Validation set dimension\n",
            "---------------\n",
            "687 Training set dimension after split\n",
            "170 Validation set dimension\n",
            "170 Local test set dimension after split\n"
          ]
        },
        {
          "output_type": "stream",
          "name": "stderr",
          "text": [
            "/usr/local/lib/python3.7/dist-packages/torch/utils/data/dataloader.py:481: UserWarning: This DataLoader will create 4 worker processes in total. Our suggested max number of worker in current system is 2, which is smaller than what this DataLoader is going to create. Please be aware that excessive worker creation might get DataLoader running slow or even freeze, lower the worker number to avoid potential slowness/freeze if necessary.\n",
            "  cpuset_checked))\n"
          ]
        }
      ]
    },
    {
      "cell_type": "code",
      "source": [
        "import seaborn as sns\n",
        "for x in ['training_set', 'validation_set', 'test_set']:\n",
        "  df_train = pd.DataFrame.from_dict(image_datasets, orient='index')\n",
        "#train = train.append(image_datasets['training_set'], ignore_index=True)\n",
        "print(df_train.head())\n"
      ],
      "metadata": {
        "colab": {
          "base_uri": "https://localhost:8080/"
        },
        "id": "oz-euL7GTBwc",
        "outputId": "dfe44494-a85b-44c2-98bf-07e5ee79e703"
      },
      "execution_count": null,
      "outputs": [
        {
          "output_type": "stream",
          "name": "stdout",
          "text": [
            "                                                                0\n",
            "training_set    (([tensor([[ -6.0541,  -5.9819,  -6.5115,  ......\n",
            "validation_set  (([tensor([[ -2.0326,  -4.1240,  -7.0831,  ......\n",
            "test_set        (([tensor([[ -6.5102,  -6.7703,  -9.7862,  ......\n"
          ]
        }
      ]
    },
    {
      "cell_type": "code",
      "source": [
        "#graph_dataset = {x: NumpyDataset(\"/content/drive/MyDrive/Dataset/\" + x +\"/\").numpy() for x in ['training_set', 'validation_set']}\n",
        "print(type(image_datasets['training_set'][5]))\n",
        "print(image_datasets['training_set'][5])\n",
        "graph_data_train = list(image_datasets['training_set'])\n",
        "\n",
        "print(graph_data_train[100])\n",
        "#sns.countplot(graph_data_train)"
      ],
      "metadata": {
        "colab": {
          "base_uri": "https://localhost:8080/",
          "height": 634
        },
        "id": "WCSJ-TwyrjWC",
        "outputId": "d3f99b82-9f4b-4602-a610-a9296b526f4a"
      },
      "execution_count": null,
      "outputs": [
        {
          "output_type": "stream",
          "name": "stdout",
          "text": [
            "<class 'tuple'>\n",
            "(tensor([[[-22.2719, -22.2719, -22.2719,  ..., -22.2719, -22.2719, -22.2719],\n",
            "         [-22.2719, -22.2719, -22.2719,  ..., -21.4931, -21.2607, -21.6271],\n",
            "         [-11.2217, -14.9896,  -9.5242,  ...,  -7.6871,  -8.2013, -10.4979],\n",
            "         ...,\n",
            "         [-12.2031, -11.4126, -11.4809,  ..., -12.3923, -12.1780, -12.3793],\n",
            "         [ -2.8648,  -1.6337,  -1.9518,  ..., -10.2078, -11.2774, -11.1311],\n",
            "         [-11.6041, -11.8822, -14.4455,  ..., -12.2096, -11.8607, -11.7594]],\n",
            "\n",
            "        [[-22.5945, -22.5945, -22.5945,  ..., -22.5945, -22.5945, -22.5945],\n",
            "         [-22.5945, -22.5945, -22.5945,  ..., -21.8123, -21.5789, -21.9468],\n",
            "         [-11.4950, -15.2798,  -9.7899,  ...,  -7.9447,  -8.4611, -10.7679],\n",
            "         ...,\n",
            "         [-12.4808, -11.6867, -11.7553,  ..., -12.6709, -12.4556, -12.6578],\n",
            "         [ -3.1008,  -1.8642,  -2.1837,  ..., -10.4766, -11.5510, -11.4040],\n",
            "         [-11.8791, -12.1584, -14.7332,  ..., -12.4873, -12.1368, -12.0351]],\n",
            "\n",
            "        [[ -4.6052,  -4.6052,  -4.6052,  ...,  -4.6052,  -4.6052,  -4.6052],\n",
            "         [ -4.6052,  -4.6052,  -4.6052,  ...,  -4.4300,  -4.3777,  -4.4601],\n",
            "         [ -2.1189,  -2.9667,  -1.7369,  ...,  -1.3236,  -1.4393,  -1.9560],\n",
            "         ...,\n",
            "         [ -2.3397,  -2.1618,  -2.1772,  ...,  -2.3823,  -2.3341,  -2.3793],\n",
            "         [ -0.2386,   0.0384,  -0.0332,  ...,  -1.8908,  -2.1314,  -2.0985],\n",
            "         [ -2.2049,  -2.2675,  -2.8442,  ...,  -2.3412,  -2.2626,  -2.2399]]]), 1)\n"
          ]
        },
        {
          "output_type": "error",
          "ename": "KeyError",
          "evalue": "ignored",
          "traceback": [
            "\u001b[0;31m---------------------------------------------------------------------------\u001b[0m",
            "\u001b[0;31mKeyError\u001b[0m                                  Traceback (most recent call last)",
            "\u001b[0;32m<ipython-input-52-cd9491524d2b>\u001b[0m in \u001b[0;36m<module>\u001b[0;34m()\u001b[0m\n\u001b[1;32m      4\u001b[0m \u001b[0mgraph_data_train\u001b[0m \u001b[0;34m=\u001b[0m \u001b[0mdict\u001b[0m\u001b[0;34m(\u001b[0m\u001b[0mimage_datasets\u001b[0m\u001b[0;34m[\u001b[0m\u001b[0;34m'training_set'\u001b[0m\u001b[0;34m]\u001b[0m\u001b[0;34m)\u001b[0m\u001b[0;34m\u001b[0m\u001b[0;34m\u001b[0m\u001b[0m\n\u001b[1;32m      5\u001b[0m \u001b[0;34m\u001b[0m\u001b[0m\n\u001b[0;32m----> 6\u001b[0;31m \u001b[0mprint\u001b[0m\u001b[0;34m(\u001b[0m\u001b[0mgraph_data_train\u001b[0m\u001b[0;34m[\u001b[0m\u001b[0;36m100\u001b[0m\u001b[0;34m]\u001b[0m\u001b[0;34m)\u001b[0m\u001b[0;34m\u001b[0m\u001b[0;34m\u001b[0m\u001b[0m\n\u001b[0m\u001b[1;32m      7\u001b[0m \u001b[0;31m#sns.countplot(graph_data_train)\u001b[0m\u001b[0;34m\u001b[0m\u001b[0;34m\u001b[0m\u001b[0;34m\u001b[0m\u001b[0m\n",
            "\u001b[0;31mKeyError\u001b[0m: 100"
          ]
        }
      ]
    },
    {
      "cell_type": "code",
      "source": [
        "df_train[0].sample(3)[0].dtype()"
      ],
      "metadata": {
        "colab": {
          "base_uri": "https://localhost:8080/",
          "height": 286
        },
        "id": "lWfrQUOwWGrD",
        "outputId": "ed14852f-b74f-4ae3-b83d-370fe9076e3f"
      },
      "execution_count": null,
      "outputs": [
        {
          "output_type": "error",
          "ename": "AttributeError",
          "evalue": "ignored",
          "traceback": [
            "\u001b[0;31m---------------------------------------------------------------------------\u001b[0m",
            "\u001b[0;31mAttributeError\u001b[0m                            Traceback (most recent call last)",
            "\u001b[0;32m<ipython-input-23-74ba00172686>\u001b[0m in \u001b[0;36m<module>\u001b[0;34m()\u001b[0m\n\u001b[0;32m----> 1\u001b[0;31m \u001b[0mdf_train\u001b[0m\u001b[0;34m[\u001b[0m\u001b[0;36m0\u001b[0m\u001b[0;34m]\u001b[0m\u001b[0;34m.\u001b[0m\u001b[0msample\u001b[0m\u001b[0;34m(\u001b[0m\u001b[0;36m3\u001b[0m\u001b[0;34m)\u001b[0m\u001b[0;34m[\u001b[0m\u001b[0;36m0\u001b[0m\u001b[0;34m]\u001b[0m\u001b[0;34m.\u001b[0m\u001b[0mdtype\u001b[0m\u001b[0;34m(\u001b[0m\u001b[0;34m)\u001b[0m\u001b[0;34m\u001b[0m\u001b[0;34m\u001b[0m\u001b[0m\n\u001b[0m",
            "\u001b[0;32m/usr/local/lib/python3.7/dist-packages/torch/utils/data/dataset.py\u001b[0m in \u001b[0;36m__getattr__\u001b[0;34m(self, attribute_name)\u001b[0m\n\u001b[1;32m     81\u001b[0m             \u001b[0;32mreturn\u001b[0m \u001b[0mfunction\u001b[0m\u001b[0;34m\u001b[0m\u001b[0;34m\u001b[0m\u001b[0m\n\u001b[1;32m     82\u001b[0m         \u001b[0;32melse\u001b[0m\u001b[0;34m:\u001b[0m\u001b[0;34m\u001b[0m\u001b[0;34m\u001b[0m\u001b[0m\n\u001b[0;32m---> 83\u001b[0;31m             \u001b[0;32mraise\u001b[0m \u001b[0mAttributeError\u001b[0m\u001b[0;34m\u001b[0m\u001b[0;34m\u001b[0m\u001b[0m\n\u001b[0m\u001b[1;32m     84\u001b[0m \u001b[0;34m\u001b[0m\u001b[0m\n\u001b[1;32m     85\u001b[0m     \u001b[0;34m@\u001b[0m\u001b[0mclassmethod\u001b[0m\u001b[0;34m\u001b[0m\u001b[0;34m\u001b[0m\u001b[0m\n",
            "\u001b[0;31mAttributeError\u001b[0m: "
          ]
        }
      ]
    },
    {
      "cell_type": "markdown",
      "source": [
        "# Procedura di training da effettuare\n",
        "\n",
        "Per effettuare il training della mia rete convoluzionale devo seguire diversi passaggi:\n",
        "- Creazione del **training set**;\n",
        "- Creazione del **validation set**;\n",
        "- Settaggio degli iperparametri (*batch size*, *learning rate*);\n",
        "- Per ogni epoca:\n",
        "  - Splittare il **training set** nei batch della dimensione corretta;\n",
        "  - Per ogni batch:\n",
        "    - Dare in input alla rete le istanze all'interno del batch;\n",
        "    - Calcolo del *loss*;\n",
        "    - Calcolo del *gradiente*;\n",
        "    - Aggiornamento dei parametri\n",
        "  -Calcolo delle performance sul **validation set**"
      ],
      "metadata": {
        "id": "QLGTJyJ39gsE"
      }
    },
    {
      "cell_type": "markdown",
      "metadata": {
        "id": "mJ0DF4JBh_ET"
      },
      "source": [
        "## Ispezione livello convoluzionale "
      ]
    },
    {
      "cell_type": "code",
      "metadata": {
        "id": "cuWTnNwaiV7b"
      },
      "source": [
        "def count_parameters(model):\n",
        "    return sum(p.numel() for p in model.parameters() if p.requires_grad)"
      ],
      "execution_count": null,
      "outputs": []
    },
    {
      "cell_type": "code",
      "metadata": {
        "id": "6JvqYtEBh-I7",
        "colab": {
          "base_uri": "https://localhost:8080/"
        },
        "outputId": "e030a919-d176-41d8-b45b-22ba67513873"
      },
      "source": [
        "conv_layer = nn.Conv2d(in_channels=1, out_channels=1, kernel_size=3, stride=2)\n",
        "#[N, C, H, W]\n",
        "#1, 1, 5, 5\n",
        "x = torch.rand(3,1,10,10) \n",
        "print(conv_layer(x).shape)\n",
        "print(count_parameters(conv_layer))"
      ],
      "execution_count": null,
      "outputs": [
        {
          "output_type": "stream",
          "name": "stdout",
          "text": [
            "torch.Size([3, 1, 4, 4])\n",
            "10\n"
          ]
        }
      ]
    },
    {
      "cell_type": "markdown",
      "metadata": {
        "id": "ZOuM6B0I_Wq0"
      },
      "source": [
        "#Definizione Funzioni\n",
        "\n",
        "La funzione *train_model* è di esempio per il train di una rete.\n",
        "\n",
        "\n",
        "\n"
      ]
    },
    {
      "cell_type": "code",
      "metadata": {
        "id": "7JYaar66_Hec"
      },
      "source": [
        "#find best model on validation test\n",
        "def train_loop_validation(dataloaders, startEpoch, numEpochs, model_conv, criterionCNN, optimizer_conv,\n",
        "                          best_acc, best_loss, best_epoca, outputPath):\n",
        "  \n",
        "  for epochs in range(startEpoch, numEpochs + 1):\n",
        "    since = time.time()\n",
        "    \n",
        "    modelLoss_train = 0.0\n",
        "    modelAcc_train = 0.0\n",
        "\n",
        "    model_conv.train() \n",
        "\n",
        "    totalSize = 0\n",
        "    \n",
        "    \n",
        "    #for each batch\n",
        "    for inputs, labels in dataloaders['training_set']:\n",
        "      inputs = inputs.type(torch.FloatTensor).cuda()\n",
        "      labels = labels.cuda()\n",
        "      \n",
        "      optimizer_conv.zero_grad()\n",
        "      model_conv.zero_grad()\n",
        "      \n",
        "      y = model_conv(inputs)\n",
        "      outp, preds = torch.max(y, 1)   \n",
        "        \n",
        "      lossCNN = criterionCNN(y, labels) #media per batch \n",
        "\n",
        "      modelLoss_train += lossCNN.item() * inputs.size(0)\n",
        "      totalSize += inputs.size(0)\n",
        "      modelAcc_train += torch.sum(preds == labels.data).item()\n",
        "\n",
        "      lossCNN.backward()  # pred = f(x)   -> loss = L(f(x), l_true)\n",
        "      optimizer_conv.step()\n",
        "    \n",
        "    \n",
        "    modelLoss_epoch_train = modelLoss_train/totalSize\n",
        "    modelAcc_epoch_train  = modelAcc_train/totalSize\n",
        "    \n",
        "    #salvataggio dei pesi ad ogni iterazione -> nel caso si blocchi e vogliamo riprendere il train \n",
        "    torch.save(model_conv.state_dict(), outputPath + 'train_weights.pth')\n",
        "    \n",
        "    model_conv.eval()\n",
        "    totalSize_val = 0\n",
        "    modelLoss_val = 0.0\n",
        "    modelAcc_val = 0.0\n",
        "\n",
        "    for inputs, labels in dataloaders['validation_set']:\n",
        "      inputs = inputs.type(torch.FloatTensor).cuda()\n",
        "      labels = labels.cuda()\n",
        "      \n",
        "      y = model_conv(inputs) #16x29\n",
        "      outp, preds = torch.max(y, 1) \n",
        "      lossCNN = criterionCNN(y, labels)\n",
        "\n",
        "      modelLoss_val += lossCNN.item() * inputs.size(0)\n",
        "      totalSize_val += inputs.size(0)\n",
        "      modelAcc_val += torch.sum(preds == labels.data).item()\n",
        "    \n",
        "      \n",
        "    modelLoss_epoch_val=modelLoss_val/totalSize_val\n",
        "    modelAcc_epoch_val = modelAcc_val/totalSize_val\n",
        "    time_elapsed = time.time()-since\n",
        "\n",
        "    #print(time_elapsed)\n",
        "    print('[Epoch %d][TRAIN on %d [Loss: %.4f  ACC: %.4f]][VAL on %d [Loss: %.4f  ACC: %.4f]][TIME: %.0f m %.0f s]' \n",
        "          %(epochs, totalSize, modelLoss_epoch_train, modelAcc_epoch_train, totalSize_val, modelLoss_epoch_val, \n",
        "            modelAcc_epoch_val, time_elapsed // 60, time_elapsed % 60))\n",
        "    \n",
        "    #if epochs == 1 or modelLoss_epoch_val < best_loss:\n",
        "    if (modelAcc_epoch_val > best_acc) or (modelAcc_epoch_val == best_acc and modelLoss_epoch_val < best_loss) :\n",
        "      print('     .... Saving best weights ....')\n",
        "      best_acc = modelAcc_epoch_val\n",
        "      best_loss = modelLoss_epoch_val\n",
        "      best_epoca = epochs\n",
        "      #salvataggio dei migliori pesi sul validation\n",
        "      torch.save(model_conv.state_dict(), outputPath + 'best_model_weights.pth')\n",
        "      \n",
        "    with open(outputPath + 'lossTrain.txt', \"a\") as file_object:\n",
        "      file_object.write(str(modelLoss_epoch_train) +'\\n')\n",
        "      \n",
        "    with open(outputPath + 'AccTrain.txt', \"a\") as file_object:\n",
        "      file_object.write(str(modelAcc_epoch_train)+'\\n')\n",
        "      \n",
        "    with open(outputPath + 'lossVal.txt', \"a\") as file_object:\n",
        "      file_object.write(str(modelLoss_epoch_val)+'\\n')\n",
        "      \n",
        "    with open(outputPath + 'AccVal.txt', \"a\") as file_object:\n",
        "      file_object.write(str(modelAcc_epoch_val)+'\\n')\n",
        "      \n",
        "    sio.savemat(outputPath + 'check_point.mat', {'best_acc': best_acc, \n",
        "                                                 'best_loss': best_loss,\n",
        "                                                 'best_epoca': best_epoca,\n",
        "                                                 'last_epoch': epochs})\n",
        "  file_object.close()"
      ],
      "execution_count": null,
      "outputs": []
    },
    {
      "cell_type": "markdown",
      "source": [
        "# Funzione di riaddestramento della rete"
      ],
      "metadata": {
        "id": "0lIoh17yFZPf"
      }
    },
    {
      "cell_type": "code",
      "source": [
        "def retrain_loop_validation(dataloaders, startEpoch, numEpochs, model_conv, criterionCNN, optimizer_conv,\n",
        "                          best_acc, best_loss, best_epoca, outputPath):\n",
        "  \n",
        "  for epochs in range(startEpoch, numEpochs + 1):\n",
        "    since = time.time()\n",
        "    \n",
        "    modelLoss_train = 0.0\n",
        "    modelAcc_train = 0.0\n",
        "\n",
        "    model_conv.train() \n",
        "\n",
        "    totalSize = 0\n",
        "    \n",
        "    \n",
        "    #for each batch\n",
        "    for inputs, labels in dataloaders['training_set']:\n",
        "      inputs = inputs.type(torch.FloatTensor).cuda()\n",
        "      labels = labels.cuda()\n",
        "      \n",
        "      optimizer_conv.zero_grad()\n",
        "      model_conv.zero_grad()\n",
        "      \n",
        "      y = model_conv(inputs)\n",
        "      outp, preds = torch.max(y, 1)   \n",
        "        \n",
        "      lossCNN = criterionCNN(y, labels) #media per batch \n",
        "\n",
        "      modelLoss_train += lossCNN.item() * inputs.size(0)\n",
        "      totalSize += inputs.size(0)\n",
        "      modelAcc_train += torch.sum(preds == labels.data).item()\n",
        "\n",
        "      lossCNN.backward()  # pred = f(x)   -> loss = L(f(x), l_true)\n",
        "      optimizer_conv.step()\n",
        "    \n",
        "    \n",
        "    modelLoss_epoch_train = modelLoss_train/totalSize\n",
        "    modelAcc_epoch_train  = modelAcc_train/totalSize\n",
        "    \n",
        "    #salvataggio dei pesi ad ogni iterazione -> nel caso si blocchi e vogliamo riprendere il train \n",
        "    torch.save(model_conv.state_dict(), outputPath + 'train_weights.pth')\n",
        "    \n",
        "    model_conv.eval()\n",
        "    totalSize_val = 0\n",
        "    modelLoss_val = 0.0\n",
        "    modelAcc_val = 0.0\n",
        "\n",
        "    for inputs, labels in dataloaders['validation_set']:\n",
        "      inputs = inputs.type(torch.FloatTensor).cuda()\n",
        "      labels = labels.cuda()\n",
        "      \n",
        "      y = model_conv(inputs) #16x29\n",
        "      outp, preds = torch.max(y, 1) \n",
        "      lossCNN = criterionCNN(y, labels)\n",
        "\n",
        "      modelLoss_val += lossCNN.item() * inputs.size(0)\n",
        "      totalSize_val += inputs.size(0)\n",
        "      modelAcc_val += torch.sum(preds == labels.data).item()\n",
        "    \n",
        "      \n",
        "    modelLoss_epoch_val=modelLoss_val/totalSize_val\n",
        "    modelAcc_epoch_val = modelAcc_val/totalSize_val\n",
        "    time_elapsed = time.time()-since\n",
        "\n",
        "    #print(time_elapsed)\n",
        "    print('[Epoch %d][TRAIN on %d [Loss: %.4f  ACC: %.4f]][VAL on %d [Loss: %.4f  ACC: %.4f]][TIME: %.0f m %.0f s]' \n",
        "          %(epochs, totalSize, modelLoss_epoch_train, modelAcc_epoch_train, totalSize_val, modelLoss_epoch_val, \n",
        "            modelAcc_epoch_val, time_elapsed // 60, time_elapsed % 60))\n",
        "    \n",
        "    #if epochs == 1 or modelLoss_epoch_val < best_loss:\n",
        "    if (epochs == numEpochs):\n",
        "      print('     .... Saving best weights ....')\n",
        "      best_acc = modelAcc_epoch_val\n",
        "      best_loss = modelLoss_epoch_val\n",
        "      best_epoca = epochs\n",
        "      #salvataggio dei migliori pesi sul validation\n",
        "      torch.save(model_conv.state_dict(), outputPath + 'best_model_weights.pth')\n",
        "      \n",
        "    with open(outputPath + 'lossTrain.txt', \"a\") as file_object:\n",
        "      file_object.write(str(modelLoss_epoch_train) +'\\n')\n",
        "      \n",
        "    with open(outputPath + 'AccTrain.txt', \"a\") as file_object:\n",
        "      file_object.write(str(modelAcc_epoch_train)+'\\n')\n",
        "      \n",
        "    with open(outputPath + 'lossVal.txt', \"a\") as file_object:\n",
        "      file_object.write(str(modelLoss_epoch_val)+'\\n')\n",
        "      \n",
        "    with open(outputPath + 'AccVal.txt', \"a\") as file_object:\n",
        "      file_object.write(str(modelAcc_epoch_val)+'\\n')\n",
        "      \n",
        "    sio.savemat(outputPath + 'check_point.mat', {'best_acc': best_acc, \n",
        "                                                 'best_loss': best_loss,\n",
        "                                                 'best_epoca': best_epoca,\n",
        "                                                 'last_epoch': epochs})\n",
        "  file_object.close()"
      ],
      "metadata": {
        "id": "dDyi0VYgFYrw"
      },
      "execution_count": null,
      "outputs": []
    },
    {
      "cell_type": "markdown",
      "metadata": {
        "id": "bwQZF7t7_jEw"
      },
      "source": [
        "#Parametri"
      ]
    },
    {
      "cell_type": "code",
      "metadata": {
        "id": "YXwdnSlVBrAk"
      },
      "source": [
        "#rendere l'esecuzione deterministica\n",
        "torch.manual_seed(0)\n",
        "np.random.seed(0)\n",
        "torch.backends.cudnn.deterministic = True\n",
        "torch.backends.cudnn.benchmark = False\n",
        "\n",
        "\n",
        "learning_rate = 0.000001\n",
        "batch_size = 120\n",
        "set_classes_number = 3\n",
        "num_epoch = 220"
      ],
      "execution_count": null,
      "outputs": []
    },
    {
      "cell_type": "markdown",
      "metadata": {
        "id": "UPlwAuNf_u0l"
      },
      "source": [
        "#Train model"
      ]
    },
    {
      "cell_type": "code",
      "metadata": {
        "id": "85ODUNJfDBoQ",
        "colab": {
          "base_uri": "https://localhost:8080/"
        },
        "outputId": "3a95204f-3f50-4134-fd3e-7861f9be5f7b"
      },
      "source": [
        "# -------------------------------------create model------------------------------------------------  \n",
        "networkName = 'alexnet'\n",
        "WeightPath = '/content/' + networkName + '/'\n",
        "\n",
        "try:\n",
        "  os.makedirs(WeightPath)\n",
        "except:\n",
        "  pass\n",
        "  \n",
        "model_conv = torchvision.models.alexnet(pretrained=True)\n",
        "# change last fully connected layer\n",
        "model_conv.classifier[6] = nn.Linear(4096, set_classes_number)\n",
        "\n",
        "# set requires_grad=false\n",
        "for param in model_conv.parameters():\n",
        "  param.requires_grad = False\n",
        "  \n",
        "# train fully connected layers\n",
        "for param in model_conv.classifier.parameters():\n",
        "  param.requires_grad = True\n",
        "\n",
        "print(model_conv)\n",
        "\n",
        "model_conv = model_conv.cuda()\n",
        "criterion = nn.CrossEntropyLoss()\n",
        "optimizer_conv = optim.Adam(model_conv.classifier.parameters(), lr=learning_rate)\n",
        "\n",
        "# -----------------------------------train model--------------------------------------------------  \n",
        "startEpoch =1\n",
        "best_acc = 0\n",
        "best_loss=0\n",
        "best_epoca = 0\n",
        "\n",
        "train_loop_validation(dataloaders, startEpoch, num_epoch, model_conv, criterion, optimizer_conv, best_acc, best_loss, best_epoca, WeightPath)"
      ],
      "execution_count": null,
      "outputs": [
        {
          "output_type": "stream",
          "name": "stdout",
          "text": [
            "AlexNet(\n",
            "  (features): Sequential(\n",
            "    (0): Conv2d(3, 64, kernel_size=(11, 11), stride=(4, 4), padding=(2, 2))\n",
            "    (1): ReLU(inplace=True)\n",
            "    (2): MaxPool2d(kernel_size=3, stride=2, padding=0, dilation=1, ceil_mode=False)\n",
            "    (3): Conv2d(64, 192, kernel_size=(5, 5), stride=(1, 1), padding=(2, 2))\n",
            "    (4): ReLU(inplace=True)\n",
            "    (5): MaxPool2d(kernel_size=3, stride=2, padding=0, dilation=1, ceil_mode=False)\n",
            "    (6): Conv2d(192, 384, kernel_size=(3, 3), stride=(1, 1), padding=(1, 1))\n",
            "    (7): ReLU(inplace=True)\n",
            "    (8): Conv2d(384, 256, kernel_size=(3, 3), stride=(1, 1), padding=(1, 1))\n",
            "    (9): ReLU(inplace=True)\n",
            "    (10): Conv2d(256, 256, kernel_size=(3, 3), stride=(1, 1), padding=(1, 1))\n",
            "    (11): ReLU(inplace=True)\n",
            "    (12): MaxPool2d(kernel_size=3, stride=2, padding=0, dilation=1, ceil_mode=False)\n",
            "  )\n",
            "  (avgpool): AdaptiveAvgPool2d(output_size=(6, 6))\n",
            "  (classifier): Sequential(\n",
            "    (0): Dropout(p=0.5, inplace=False)\n",
            "    (1): Linear(in_features=9216, out_features=4096, bias=True)\n",
            "    (2): ReLU(inplace=True)\n",
            "    (3): Dropout(p=0.5, inplace=False)\n",
            "    (4): Linear(in_features=4096, out_features=4096, bias=True)\n",
            "    (5): ReLU(inplace=True)\n",
            "    (6): Linear(in_features=4096, out_features=3, bias=True)\n",
            "  )\n",
            ")\n"
          ]
        },
        {
          "output_type": "stream",
          "name": "stderr",
          "text": [
            "/usr/local/lib/python3.7/dist-packages/torch/utils/data/dataloader.py:481: UserWarning: This DataLoader will create 4 worker processes in total. Our suggested max number of worker in current system is 2, which is smaller than what this DataLoader is going to create. Please be aware that excessive worker creation might get DataLoader running slow or even freeze, lower the worker number to avoid potential slowness/freeze if necessary.\n",
            "  cpuset_checked))\n"
          ]
        },
        {
          "output_type": "stream",
          "name": "stdout",
          "text": [
            "[Epoch 1][TRAIN on 687 [Loss: 1.3791  ACC: 0.3872]][VAL on 170 [Loss: 1.0845  ACC: 0.4647]][TIME: 0 m 10 s]\n",
            "     .... Saving best weights ....\n",
            "[Epoch 2][TRAIN on 687 [Loss: 1.0514  ACC: 0.4993]][VAL on 170 [Loss: 0.8961  ACC: 0.5882]][TIME: 0 m 10 s]\n",
            "     .... Saving best weights ....\n",
            "[Epoch 3][TRAIN on 687 [Loss: 0.9543  ACC: 0.5706]][VAL on 170 [Loss: 0.7933  ACC: 0.6588]][TIME: 0 m 10 s]\n",
            "     .... Saving best weights ....\n",
            "[Epoch 4][TRAIN on 687 [Loss: 0.8413  ACC: 0.6084]][VAL on 170 [Loss: 0.7269  ACC: 0.6882]][TIME: 0 m 10 s]\n",
            "     .... Saving best weights ....\n",
            "[Epoch 5][TRAIN on 687 [Loss: 0.8051  ACC: 0.6172]][VAL on 170 [Loss: 0.6829  ACC: 0.7059]][TIME: 0 m 10 s]\n",
            "     .... Saving best weights ....\n",
            "[Epoch 6][TRAIN on 687 [Loss: 0.7489  ACC: 0.6652]][VAL on 170 [Loss: 0.6490  ACC: 0.7235]][TIME: 0 m 10 s]\n",
            "     .... Saving best weights ....\n",
            "[Epoch 7][TRAIN on 687 [Loss: 0.6889  ACC: 0.6943]][VAL on 170 [Loss: 0.6270  ACC: 0.7529]][TIME: 0 m 10 s]\n",
            "     .... Saving best weights ....\n",
            "[Epoch 8][TRAIN on 687 [Loss: 0.6587  ACC: 0.7278]][VAL on 170 [Loss: 0.6019  ACC: 0.7647]][TIME: 0 m 10 s]\n",
            "     .... Saving best weights ....\n",
            "[Epoch 9][TRAIN on 687 [Loss: 0.6042  ACC: 0.7336]][VAL on 170 [Loss: 0.5829  ACC: 0.7588]][TIME: 0 m 10 s]\n",
            "[Epoch 10][TRAIN on 687 [Loss: 0.5731  ACC: 0.7467]][VAL on 170 [Loss: 0.5699  ACC: 0.7706]][TIME: 0 m 10 s]\n",
            "     .... Saving best weights ....\n",
            "[Epoch 11][TRAIN on 687 [Loss: 0.5725  ACC: 0.7511]][VAL on 170 [Loss: 0.5582  ACC: 0.7647]][TIME: 0 m 10 s]\n",
            "[Epoch 12][TRAIN on 687 [Loss: 0.5415  ACC: 0.7715]][VAL on 170 [Loss: 0.5489  ACC: 0.7647]][TIME: 0 m 10 s]\n",
            "[Epoch 13][TRAIN on 687 [Loss: 0.5556  ACC: 0.7598]][VAL on 170 [Loss: 0.5404  ACC: 0.7706]][TIME: 0 m 10 s]\n",
            "     .... Saving best weights ....\n",
            "[Epoch 14][TRAIN on 687 [Loss: 0.5245  ACC: 0.7686]][VAL on 170 [Loss: 0.5329  ACC: 0.7765]][TIME: 0 m 10 s]\n",
            "     .... Saving best weights ....\n",
            "[Epoch 15][TRAIN on 687 [Loss: 0.4718  ACC: 0.8093]][VAL on 170 [Loss: 0.5227  ACC: 0.7706]][TIME: 0 m 10 s]\n",
            "[Epoch 16][TRAIN on 687 [Loss: 0.4850  ACC: 0.7875]][VAL on 170 [Loss: 0.5161  ACC: 0.7824]][TIME: 0 m 10 s]\n",
            "     .... Saving best weights ....\n",
            "[Epoch 17][TRAIN on 687 [Loss: 0.4680  ACC: 0.8006]][VAL on 170 [Loss: 0.5096  ACC: 0.7882]][TIME: 0 m 10 s]\n",
            "     .... Saving best weights ....\n",
            "[Epoch 18][TRAIN on 687 [Loss: 0.4631  ACC: 0.8122]][VAL on 170 [Loss: 0.5050  ACC: 0.7882]][TIME: 0 m 10 s]\n",
            "     .... Saving best weights ....\n",
            "[Epoch 19][TRAIN on 687 [Loss: 0.4807  ACC: 0.8020]][VAL on 170 [Loss: 0.5019  ACC: 0.7882]][TIME: 0 m 10 s]\n",
            "     .... Saving best weights ....\n",
            "[Epoch 20][TRAIN on 687 [Loss: 0.4394  ACC: 0.8210]][VAL on 170 [Loss: 0.5002  ACC: 0.7941]][TIME: 0 m 10 s]\n",
            "     .... Saving best weights ....\n",
            "[Epoch 21][TRAIN on 687 [Loss: 0.4559  ACC: 0.8049]][VAL on 170 [Loss: 0.4976  ACC: 0.7765]][TIME: 0 m 10 s]\n",
            "[Epoch 22][TRAIN on 687 [Loss: 0.4272  ACC: 0.8282]][VAL on 170 [Loss: 0.4942  ACC: 0.7765]][TIME: 0 m 10 s]\n",
            "[Epoch 23][TRAIN on 687 [Loss: 0.4252  ACC: 0.8239]][VAL on 170 [Loss: 0.4896  ACC: 0.7824]][TIME: 0 m 10 s]\n",
            "[Epoch 24][TRAIN on 687 [Loss: 0.3971  ACC: 0.8413]][VAL on 170 [Loss: 0.4870  ACC: 0.7882]][TIME: 0 m 10 s]\n",
            "[Epoch 25][TRAIN on 687 [Loss: 0.3978  ACC: 0.8268]][VAL on 170 [Loss: 0.4866  ACC: 0.7824]][TIME: 0 m 10 s]\n",
            "[Epoch 26][TRAIN on 687 [Loss: 0.4043  ACC: 0.8413]][VAL on 170 [Loss: 0.4785  ACC: 0.7824]][TIME: 0 m 10 s]\n",
            "[Epoch 27][TRAIN on 687 [Loss: 0.3883  ACC: 0.8486]][VAL on 170 [Loss: 0.4764  ACC: 0.7882]][TIME: 0 m 10 s]\n",
            "[Epoch 28][TRAIN on 687 [Loss: 0.3973  ACC: 0.8413]][VAL on 170 [Loss: 0.4782  ACC: 0.7882]][TIME: 0 m 10 s]\n",
            "[Epoch 29][TRAIN on 687 [Loss: 0.4061  ACC: 0.8224]][VAL on 170 [Loss: 0.4739  ACC: 0.7824]][TIME: 0 m 10 s]\n",
            "[Epoch 30][TRAIN on 687 [Loss: 0.3495  ACC: 0.8603]][VAL on 170 [Loss: 0.4717  ACC: 0.7882]][TIME: 0 m 10 s]\n",
            "[Epoch 31][TRAIN on 687 [Loss: 0.3519  ACC: 0.8748]][VAL on 170 [Loss: 0.4690  ACC: 0.7882]][TIME: 0 m 10 s]\n",
            "[Epoch 32][TRAIN on 687 [Loss: 0.3527  ACC: 0.8559]][VAL on 170 [Loss: 0.4672  ACC: 0.7824]][TIME: 0 m 10 s]\n",
            "[Epoch 33][TRAIN on 687 [Loss: 0.3581  ACC: 0.8675]][VAL on 170 [Loss: 0.4642  ACC: 0.7824]][TIME: 0 m 10 s]\n",
            "[Epoch 34][TRAIN on 687 [Loss: 0.3645  ACC: 0.8544]][VAL on 170 [Loss: 0.4624  ACC: 0.7882]][TIME: 0 m 10 s]\n",
            "[Epoch 35][TRAIN on 687 [Loss: 0.3285  ACC: 0.8734]][VAL on 170 [Loss: 0.4610  ACC: 0.7824]][TIME: 0 m 10 s]\n",
            "[Epoch 36][TRAIN on 687 [Loss: 0.3363  ACC: 0.8544]][VAL on 170 [Loss: 0.4593  ACC: 0.7824]][TIME: 0 m 10 s]\n",
            "[Epoch 37][TRAIN on 687 [Loss: 0.3249  ACC: 0.8617]][VAL on 170 [Loss: 0.4609  ACC: 0.7941]][TIME: 0 m 10 s]\n",
            "     .... Saving best weights ....\n",
            "[Epoch 38][TRAIN on 687 [Loss: 0.3483  ACC: 0.8675]][VAL on 170 [Loss: 0.4597  ACC: 0.7882]][TIME: 0 m 10 s]\n",
            "[Epoch 39][TRAIN on 687 [Loss: 0.3286  ACC: 0.8792]][VAL on 170 [Loss: 0.4579  ACC: 0.7824]][TIME: 0 m 10 s]\n",
            "[Epoch 40][TRAIN on 687 [Loss: 0.3233  ACC: 0.8675]][VAL on 170 [Loss: 0.4551  ACC: 0.7882]][TIME: 0 m 10 s]\n",
            "[Epoch 41][TRAIN on 687 [Loss: 0.3310  ACC: 0.8646]][VAL on 170 [Loss: 0.4516  ACC: 0.7882]][TIME: 0 m 10 s]\n",
            "[Epoch 42][TRAIN on 687 [Loss: 0.3366  ACC: 0.8632]][VAL on 170 [Loss: 0.4531  ACC: 0.7941]][TIME: 0 m 10 s]\n",
            "     .... Saving best weights ....\n",
            "[Epoch 43][TRAIN on 687 [Loss: 0.3246  ACC: 0.8719]][VAL on 170 [Loss: 0.4498  ACC: 0.8000]][TIME: 0 m 10 s]\n",
            "     .... Saving best weights ....\n",
            "[Epoch 44][TRAIN on 687 [Loss: 0.3409  ACC: 0.8646]][VAL on 170 [Loss: 0.4480  ACC: 0.7882]][TIME: 0 m 10 s]\n",
            "[Epoch 45][TRAIN on 687 [Loss: 0.3296  ACC: 0.8763]][VAL on 170 [Loss: 0.4465  ACC: 0.7941]][TIME: 0 m 10 s]\n",
            "[Epoch 46][TRAIN on 687 [Loss: 0.2920  ACC: 0.8806]][VAL on 170 [Loss: 0.4469  ACC: 0.7941]][TIME: 0 m 10 s]\n",
            "[Epoch 47][TRAIN on 687 [Loss: 0.2989  ACC: 0.8777]][VAL on 170 [Loss: 0.4468  ACC: 0.7941]][TIME: 0 m 10 s]\n",
            "[Epoch 48][TRAIN on 687 [Loss: 0.3005  ACC: 0.8821]][VAL on 170 [Loss: 0.4452  ACC: 0.7941]][TIME: 0 m 10 s]\n",
            "[Epoch 49][TRAIN on 687 [Loss: 0.2801  ACC: 0.8937]][VAL on 170 [Loss: 0.4453  ACC: 0.7882]][TIME: 0 m 10 s]\n",
            "[Epoch 50][TRAIN on 687 [Loss: 0.2943  ACC: 0.8923]][VAL on 170 [Loss: 0.4444  ACC: 0.7941]][TIME: 0 m 10 s]\n",
            "[Epoch 51][TRAIN on 687 [Loss: 0.2836  ACC: 0.8996]][VAL on 170 [Loss: 0.4423  ACC: 0.8000]][TIME: 0 m 10 s]\n",
            "     .... Saving best weights ....\n",
            "[Epoch 52][TRAIN on 687 [Loss: 0.2787  ACC: 0.8865]][VAL on 170 [Loss: 0.4409  ACC: 0.8118]][TIME: 0 m 10 s]\n",
            "     .... Saving best weights ....\n",
            "[Epoch 53][TRAIN on 687 [Loss: 0.2813  ACC: 0.8981]][VAL on 170 [Loss: 0.4413  ACC: 0.8000]][TIME: 0 m 10 s]\n",
            "[Epoch 54][TRAIN on 687 [Loss: 0.2631  ACC: 0.8836]][VAL on 170 [Loss: 0.4415  ACC: 0.7882]][TIME: 0 m 10 s]\n",
            "[Epoch 55][TRAIN on 687 [Loss: 0.2828  ACC: 0.8850]][VAL on 170 [Loss: 0.4418  ACC: 0.7941]][TIME: 0 m 10 s]\n",
            "[Epoch 56][TRAIN on 687 [Loss: 0.2491  ACC: 0.9083]][VAL on 170 [Loss: 0.4374  ACC: 0.7941]][TIME: 0 m 10 s]\n",
            "[Epoch 57][TRAIN on 687 [Loss: 0.2546  ACC: 0.9127]][VAL on 170 [Loss: 0.4390  ACC: 0.7941]][TIME: 0 m 10 s]\n",
            "[Epoch 58][TRAIN on 687 [Loss: 0.2532  ACC: 0.9098]][VAL on 170 [Loss: 0.4368  ACC: 0.7882]][TIME: 0 m 10 s]\n",
            "[Epoch 59][TRAIN on 687 [Loss: 0.2465  ACC: 0.9068]][VAL on 170 [Loss: 0.4327  ACC: 0.8059]][TIME: 0 m 10 s]\n",
            "[Epoch 60][TRAIN on 687 [Loss: 0.2683  ACC: 0.8923]][VAL on 170 [Loss: 0.4330  ACC: 0.8000]][TIME: 0 m 10 s]\n",
            "[Epoch 61][TRAIN on 687 [Loss: 0.2615  ACC: 0.8981]][VAL on 170 [Loss: 0.4330  ACC: 0.7941]][TIME: 0 m 10 s]\n",
            "[Epoch 62][TRAIN on 687 [Loss: 0.2498  ACC: 0.9214]][VAL on 170 [Loss: 0.4325  ACC: 0.8059]][TIME: 0 m 10 s]\n",
            "[Epoch 63][TRAIN on 687 [Loss: 0.2657  ACC: 0.8923]][VAL on 170 [Loss: 0.4290  ACC: 0.8059]][TIME: 0 m 10 s]\n",
            "[Epoch 64][TRAIN on 687 [Loss: 0.2704  ACC: 0.8850]][VAL on 170 [Loss: 0.4266  ACC: 0.8059]][TIME: 0 m 10 s]\n",
            "[Epoch 65][TRAIN on 687 [Loss: 0.2544  ACC: 0.9054]][VAL on 170 [Loss: 0.4267  ACC: 0.8176]][TIME: 0 m 10 s]\n",
            "     .... Saving best weights ....\n",
            "[Epoch 66][TRAIN on 687 [Loss: 0.2566  ACC: 0.9068]][VAL on 170 [Loss: 0.4255  ACC: 0.8118]][TIME: 0 m 10 s]\n",
            "[Epoch 67][TRAIN on 687 [Loss: 0.2485  ACC: 0.8967]][VAL on 170 [Loss: 0.4229  ACC: 0.8176]][TIME: 0 m 10 s]\n",
            "     .... Saving best weights ....\n",
            "[Epoch 68][TRAIN on 687 [Loss: 0.2466  ACC: 0.9054]][VAL on 170 [Loss: 0.4226  ACC: 0.8176]][TIME: 0 m 10 s]\n",
            "     .... Saving best weights ....\n",
            "[Epoch 69][TRAIN on 687 [Loss: 0.2560  ACC: 0.8981]][VAL on 170 [Loss: 0.4244  ACC: 0.8235]][TIME: 0 m 10 s]\n",
            "     .... Saving best weights ....\n",
            "[Epoch 70][TRAIN on 687 [Loss: 0.2561  ACC: 0.9025]][VAL on 170 [Loss: 0.4231  ACC: 0.8176]][TIME: 0 m 10 s]\n",
            "[Epoch 71][TRAIN on 687 [Loss: 0.2512  ACC: 0.9039]][VAL on 170 [Loss: 0.4175  ACC: 0.8176]][TIME: 0 m 10 s]\n",
            "[Epoch 72][TRAIN on 687 [Loss: 0.2413  ACC: 0.9068]][VAL on 170 [Loss: 0.4188  ACC: 0.8176]][TIME: 0 m 10 s]\n",
            "[Epoch 73][TRAIN on 687 [Loss: 0.2361  ACC: 0.9112]][VAL on 170 [Loss: 0.4164  ACC: 0.8235]][TIME: 0 m 10 s]\n",
            "     .... Saving best weights ....\n",
            "[Epoch 74][TRAIN on 687 [Loss: 0.2250  ACC: 0.9127]][VAL on 170 [Loss: 0.4155  ACC: 0.8294]][TIME: 0 m 10 s]\n",
            "     .... Saving best weights ....\n",
            "[Epoch 75][TRAIN on 687 [Loss: 0.2300  ACC: 0.9083]][VAL on 170 [Loss: 0.4146  ACC: 0.8235]][TIME: 0 m 10 s]\n",
            "[Epoch 76][TRAIN on 687 [Loss: 0.2332  ACC: 0.9098]][VAL on 170 [Loss: 0.4145  ACC: 0.8294]][TIME: 0 m 10 s]\n",
            "     .... Saving best weights ....\n",
            "[Epoch 77][TRAIN on 687 [Loss: 0.2134  ACC: 0.9199]][VAL on 170 [Loss: 0.4155  ACC: 0.8294]][TIME: 0 m 10 s]\n",
            "[Epoch 78][TRAIN on 687 [Loss: 0.2196  ACC: 0.9141]][VAL on 170 [Loss: 0.4179  ACC: 0.8235]][TIME: 0 m 10 s]\n",
            "[Epoch 79][TRAIN on 687 [Loss: 0.1992  ACC: 0.9272]][VAL on 170 [Loss: 0.4176  ACC: 0.8294]][TIME: 0 m 10 s]\n",
            "[Epoch 80][TRAIN on 687 [Loss: 0.2322  ACC: 0.9141]][VAL on 170 [Loss: 0.4146  ACC: 0.8235]][TIME: 0 m 10 s]\n",
            "[Epoch 81][TRAIN on 687 [Loss: 0.2092  ACC: 0.9214]][VAL on 170 [Loss: 0.4144  ACC: 0.8235]][TIME: 0 m 10 s]\n",
            "[Epoch 82][TRAIN on 687 [Loss: 0.2159  ACC: 0.9243]][VAL on 170 [Loss: 0.4118  ACC: 0.8176]][TIME: 0 m 10 s]\n",
            "[Epoch 83][TRAIN on 687 [Loss: 0.2130  ACC: 0.9214]][VAL on 170 [Loss: 0.4150  ACC: 0.8353]][TIME: 0 m 10 s]\n",
            "     .... Saving best weights ....\n",
            "[Epoch 84][TRAIN on 687 [Loss: 0.1958  ACC: 0.9287]][VAL on 170 [Loss: 0.4110  ACC: 0.8294]][TIME: 0 m 10 s]\n",
            "[Epoch 85][TRAIN on 687 [Loss: 0.2040  ACC: 0.9287]][VAL on 170 [Loss: 0.4112  ACC: 0.8294]][TIME: 0 m 10 s]\n",
            "[Epoch 86][TRAIN on 687 [Loss: 0.2279  ACC: 0.9083]][VAL on 170 [Loss: 0.4115  ACC: 0.8353]][TIME: 0 m 10 s]\n",
            "     .... Saving best weights ....\n",
            "[Epoch 87][TRAIN on 687 [Loss: 0.1893  ACC: 0.9301]][VAL on 170 [Loss: 0.4117  ACC: 0.8412]][TIME: 0 m 10 s]\n",
            "     .... Saving best weights ....\n",
            "[Epoch 88][TRAIN on 687 [Loss: 0.1975  ACC: 0.9243]][VAL on 170 [Loss: 0.4053  ACC: 0.8294]][TIME: 0 m 10 s]\n",
            "[Epoch 89][TRAIN on 687 [Loss: 0.1975  ACC: 0.9287]][VAL on 170 [Loss: 0.4070  ACC: 0.8294]][TIME: 0 m 10 s]\n",
            "[Epoch 90][TRAIN on 687 [Loss: 0.1995  ACC: 0.9301]][VAL on 170 [Loss: 0.4089  ACC: 0.8412]][TIME: 0 m 10 s]\n",
            "     .... Saving best weights ....\n",
            "[Epoch 91][TRAIN on 687 [Loss: 0.1814  ACC: 0.9432]][VAL on 170 [Loss: 0.4056  ACC: 0.8412]][TIME: 0 m 10 s]\n",
            "     .... Saving best weights ....\n",
            "[Epoch 92][TRAIN on 687 [Loss: 0.2177  ACC: 0.9185]][VAL on 170 [Loss: 0.4055  ACC: 0.8353]][TIME: 0 m 10 s]\n",
            "[Epoch 93][TRAIN on 687 [Loss: 0.1786  ACC: 0.9330]][VAL on 170 [Loss: 0.4021  ACC: 0.8471]][TIME: 0 m 10 s]\n",
            "     .... Saving best weights ....\n",
            "[Epoch 94][TRAIN on 687 [Loss: 0.2000  ACC: 0.9272]][VAL on 170 [Loss: 0.4009  ACC: 0.8353]][TIME: 0 m 10 s]\n",
            "[Epoch 95][TRAIN on 687 [Loss: 0.1794  ACC: 0.9403]][VAL on 170 [Loss: 0.4027  ACC: 0.8353]][TIME: 0 m 10 s]\n",
            "[Epoch 96][TRAIN on 687 [Loss: 0.1908  ACC: 0.9272]][VAL on 170 [Loss: 0.4031  ACC: 0.8353]][TIME: 0 m 10 s]\n",
            "[Epoch 97][TRAIN on 687 [Loss: 0.1870  ACC: 0.9287]][VAL on 170 [Loss: 0.4039  ACC: 0.8294]][TIME: 0 m 10 s]\n",
            "[Epoch 98][TRAIN on 687 [Loss: 0.1951  ACC: 0.9258]][VAL on 170 [Loss: 0.4054  ACC: 0.8412]][TIME: 0 m 10 s]\n",
            "[Epoch 99][TRAIN on 687 [Loss: 0.1836  ACC: 0.9389]][VAL on 170 [Loss: 0.4064  ACC: 0.8412]][TIME: 0 m 10 s]\n",
            "[Epoch 100][TRAIN on 687 [Loss: 0.1933  ACC: 0.9229]][VAL on 170 [Loss: 0.4054  ACC: 0.8412]][TIME: 0 m 10 s]\n",
            "[Epoch 101][TRAIN on 687 [Loss: 0.1826  ACC: 0.9229]][VAL on 170 [Loss: 0.4065  ACC: 0.8471]][TIME: 0 m 10 s]\n",
            "[Epoch 102][TRAIN on 687 [Loss: 0.1850  ACC: 0.9345]][VAL on 170 [Loss: 0.4061  ACC: 0.8412]][TIME: 0 m 10 s]\n",
            "[Epoch 103][TRAIN on 687 [Loss: 0.1817  ACC: 0.9360]][VAL on 170 [Loss: 0.4035  ACC: 0.8529]][TIME: 0 m 10 s]\n",
            "     .... Saving best weights ....\n",
            "[Epoch 104][TRAIN on 687 [Loss: 0.1926  ACC: 0.9258]][VAL on 170 [Loss: 0.4010  ACC: 0.8529]][TIME: 0 m 10 s]\n",
            "     .... Saving best weights ....\n",
            "[Epoch 105][TRAIN on 687 [Loss: 0.1820  ACC: 0.9418]][VAL on 170 [Loss: 0.4000  ACC: 0.8588]][TIME: 0 m 10 s]\n",
            "     .... Saving best weights ....\n",
            "[Epoch 106][TRAIN on 687 [Loss: 0.1668  ACC: 0.9491]][VAL on 170 [Loss: 0.4037  ACC: 0.8529]][TIME: 0 m 10 s]\n",
            "[Epoch 107][TRAIN on 687 [Loss: 0.1589  ACC: 0.9476]][VAL on 170 [Loss: 0.4012  ACC: 0.8588]][TIME: 0 m 10 s]\n",
            "[Epoch 108][TRAIN on 687 [Loss: 0.1942  ACC: 0.9214]][VAL on 170 [Loss: 0.3993  ACC: 0.8588]][TIME: 0 m 10 s]\n",
            "     .... Saving best weights ....\n",
            "[Epoch 109][TRAIN on 687 [Loss: 0.1624  ACC: 0.9447]][VAL on 170 [Loss: 0.3975  ACC: 0.8588]][TIME: 0 m 10 s]\n",
            "     .... Saving best weights ....\n",
            "[Epoch 110][TRAIN on 687 [Loss: 0.1775  ACC: 0.9301]][VAL on 170 [Loss: 0.4000  ACC: 0.8588]][TIME: 0 m 10 s]\n",
            "[Epoch 111][TRAIN on 687 [Loss: 0.1558  ACC: 0.9447]][VAL on 170 [Loss: 0.3994  ACC: 0.8647]][TIME: 0 m 10 s]\n",
            "     .... Saving best weights ....\n",
            "[Epoch 112][TRAIN on 687 [Loss: 0.1693  ACC: 0.9374]][VAL on 170 [Loss: 0.3980  ACC: 0.8588]][TIME: 0 m 10 s]\n",
            "[Epoch 113][TRAIN on 687 [Loss: 0.1423  ACC: 0.9461]][VAL on 170 [Loss: 0.4009  ACC: 0.8529]][TIME: 0 m 10 s]\n",
            "[Epoch 114][TRAIN on 687 [Loss: 0.1600  ACC: 0.9505]][VAL on 170 [Loss: 0.4002  ACC: 0.8588]][TIME: 0 m 10 s]\n",
            "[Epoch 115][TRAIN on 687 [Loss: 0.1433  ACC: 0.9549]][VAL on 170 [Loss: 0.4095  ACC: 0.8588]][TIME: 0 m 10 s]\n",
            "[Epoch 116][TRAIN on 687 [Loss: 0.1786  ACC: 0.9360]][VAL on 170 [Loss: 0.4014  ACC: 0.8471]][TIME: 0 m 10 s]\n",
            "[Epoch 117][TRAIN on 687 [Loss: 0.1437  ACC: 0.9491]][VAL on 170 [Loss: 0.4015  ACC: 0.8529]][TIME: 0 m 10 s]\n",
            "[Epoch 118][TRAIN on 687 [Loss: 0.1684  ACC: 0.9432]][VAL on 170 [Loss: 0.3986  ACC: 0.8588]][TIME: 0 m 10 s]\n",
            "[Epoch 119][TRAIN on 687 [Loss: 0.1649  ACC: 0.9505]][VAL on 170 [Loss: 0.3989  ACC: 0.8588]][TIME: 0 m 10 s]\n",
            "[Epoch 120][TRAIN on 687 [Loss: 0.1417  ACC: 0.9549]][VAL on 170 [Loss: 0.3991  ACC: 0.8588]][TIME: 0 m 10 s]\n",
            "[Epoch 121][TRAIN on 687 [Loss: 0.1439  ACC: 0.9520]][VAL on 170 [Loss: 0.4008  ACC: 0.8765]][TIME: 0 m 10 s]\n",
            "     .... Saving best weights ....\n",
            "[Epoch 122][TRAIN on 687 [Loss: 0.1364  ACC: 0.9622]][VAL on 170 [Loss: 0.4076  ACC: 0.8529]][TIME: 0 m 10 s]\n",
            "[Epoch 123][TRAIN on 687 [Loss: 0.1612  ACC: 0.9389]][VAL on 170 [Loss: 0.4039  ACC: 0.8529]][TIME: 0 m 10 s]\n",
            "[Epoch 124][TRAIN on 687 [Loss: 0.1541  ACC: 0.9418]][VAL on 170 [Loss: 0.3992  ACC: 0.8588]][TIME: 0 m 10 s]\n",
            "[Epoch 125][TRAIN on 687 [Loss: 0.1384  ACC: 0.9476]][VAL on 170 [Loss: 0.3952  ACC: 0.8647]][TIME: 0 m 10 s]\n",
            "[Epoch 126][TRAIN on 687 [Loss: 0.1535  ACC: 0.9447]][VAL on 170 [Loss: 0.3945  ACC: 0.8647]][TIME: 0 m 10 s]\n",
            "[Epoch 127][TRAIN on 687 [Loss: 0.1533  ACC: 0.9520]][VAL on 170 [Loss: 0.3954  ACC: 0.8706]][TIME: 0 m 10 s]\n",
            "[Epoch 128][TRAIN on 687 [Loss: 0.1503  ACC: 0.9447]][VAL on 170 [Loss: 0.3952  ACC: 0.8824]][TIME: 0 m 10 s]\n",
            "     .... Saving best weights ....\n",
            "[Epoch 129][TRAIN on 687 [Loss: 0.1627  ACC: 0.9447]][VAL on 170 [Loss: 0.3954  ACC: 0.8588]][TIME: 0 m 10 s]\n",
            "[Epoch 130][TRAIN on 687 [Loss: 0.1418  ACC: 0.9534]][VAL on 170 [Loss: 0.3959  ACC: 0.8529]][TIME: 0 m 10 s]\n",
            "[Epoch 131][TRAIN on 687 [Loss: 0.1340  ACC: 0.9491]][VAL on 170 [Loss: 0.3976  ACC: 0.8824]][TIME: 0 m 10 s]\n",
            "[Epoch 132][TRAIN on 687 [Loss: 0.1378  ACC: 0.9563]][VAL on 170 [Loss: 0.3963  ACC: 0.8706]][TIME: 0 m 10 s]\n",
            "[Epoch 133][TRAIN on 687 [Loss: 0.1442  ACC: 0.9505]][VAL on 170 [Loss: 0.3946  ACC: 0.8765]][TIME: 0 m 10 s]\n",
            "[Epoch 134][TRAIN on 687 [Loss: 0.1372  ACC: 0.9549]][VAL on 170 [Loss: 0.3940  ACC: 0.8706]][TIME: 0 m 10 s]\n",
            "[Epoch 135][TRAIN on 687 [Loss: 0.1528  ACC: 0.9534]][VAL on 170 [Loss: 0.3943  ACC: 0.8647]][TIME: 0 m 10 s]\n",
            "[Epoch 136][TRAIN on 687 [Loss: 0.1315  ACC: 0.9534]][VAL on 170 [Loss: 0.3948  ACC: 0.8765]][TIME: 0 m 10 s]\n",
            "[Epoch 137][TRAIN on 687 [Loss: 0.1469  ACC: 0.9476]][VAL on 170 [Loss: 0.3932  ACC: 0.8706]][TIME: 0 m 10 s]\n",
            "[Epoch 138][TRAIN on 687 [Loss: 0.1451  ACC: 0.9534]][VAL on 170 [Loss: 0.3914  ACC: 0.8765]][TIME: 0 m 10 s]\n",
            "[Epoch 139][TRAIN on 687 [Loss: 0.1390  ACC: 0.9491]][VAL on 170 [Loss: 0.3900  ACC: 0.8765]][TIME: 0 m 10 s]\n",
            "[Epoch 140][TRAIN on 687 [Loss: 0.1444  ACC: 0.9447]][VAL on 170 [Loss: 0.3899  ACC: 0.8765]][TIME: 0 m 10 s]\n",
            "[Epoch 141][TRAIN on 687 [Loss: 0.1200  ACC: 0.9680]][VAL on 170 [Loss: 0.3908  ACC: 0.8765]][TIME: 0 m 10 s]\n",
            "[Epoch 142][TRAIN on 687 [Loss: 0.1231  ACC: 0.9607]][VAL on 170 [Loss: 0.3941  ACC: 0.8706]][TIME: 0 m 10 s]\n",
            "[Epoch 143][TRAIN on 687 [Loss: 0.1057  ACC: 0.9723]][VAL on 170 [Loss: 0.3958  ACC: 0.8647]][TIME: 0 m 10 s]\n",
            "[Epoch 144][TRAIN on 687 [Loss: 0.1205  ACC: 0.9578]][VAL on 170 [Loss: 0.3992  ACC: 0.8706]][TIME: 0 m 10 s]\n",
            "[Epoch 145][TRAIN on 687 [Loss: 0.1367  ACC: 0.9534]][VAL on 170 [Loss: 0.3987  ACC: 0.8765]][TIME: 0 m 10 s]\n",
            "[Epoch 146][TRAIN on 687 [Loss: 0.1272  ACC: 0.9607]][VAL on 170 [Loss: 0.3969  ACC: 0.8706]][TIME: 0 m 10 s]\n",
            "[Epoch 147][TRAIN on 687 [Loss: 0.1211  ACC: 0.9563]][VAL on 170 [Loss: 0.3978  ACC: 0.8647]][TIME: 0 m 10 s]\n",
            "[Epoch 148][TRAIN on 687 [Loss: 0.1279  ACC: 0.9476]][VAL on 170 [Loss: 0.3973  ACC: 0.8824]][TIME: 0 m 10 s]\n",
            "[Epoch 149][TRAIN on 687 [Loss: 0.1300  ACC: 0.9491]][VAL on 170 [Loss: 0.3970  ACC: 0.8706]][TIME: 0 m 10 s]\n",
            "[Epoch 150][TRAIN on 687 [Loss: 0.1147  ACC: 0.9592]][VAL on 170 [Loss: 0.3972  ACC: 0.8706]][TIME: 0 m 10 s]\n",
            "[Epoch 151][TRAIN on 687 [Loss: 0.1285  ACC: 0.9622]][VAL on 170 [Loss: 0.3942  ACC: 0.8706]][TIME: 0 m 10 s]\n",
            "[Epoch 152][TRAIN on 687 [Loss: 0.1226  ACC: 0.9622]][VAL on 170 [Loss: 0.3937  ACC: 0.8765]][TIME: 0 m 10 s]\n",
            "[Epoch 153][TRAIN on 687 [Loss: 0.1173  ACC: 0.9607]][VAL on 170 [Loss: 0.3954  ACC: 0.8765]][TIME: 0 m 10 s]\n",
            "[Epoch 154][TRAIN on 687 [Loss: 0.1198  ACC: 0.9636]][VAL on 170 [Loss: 0.3944  ACC: 0.8765]][TIME: 0 m 10 s]\n",
            "[Epoch 155][TRAIN on 687 [Loss: 0.1061  ACC: 0.9592]][VAL on 170 [Loss: 0.3932  ACC: 0.8765]][TIME: 0 m 10 s]\n",
            "[Epoch 156][TRAIN on 687 [Loss: 0.1069  ACC: 0.9694]][VAL on 170 [Loss: 0.3936  ACC: 0.8765]][TIME: 0 m 10 s]\n",
            "[Epoch 157][TRAIN on 687 [Loss: 0.1142  ACC: 0.9636]][VAL on 170 [Loss: 0.3963  ACC: 0.8706]][TIME: 0 m 10 s]\n",
            "[Epoch 158][TRAIN on 687 [Loss: 0.1138  ACC: 0.9680]][VAL on 170 [Loss: 0.3955  ACC: 0.8706]][TIME: 0 m 10 s]\n",
            "[Epoch 159][TRAIN on 687 [Loss: 0.1126  ACC: 0.9578]][VAL on 170 [Loss: 0.3969  ACC: 0.8706]][TIME: 0 m 10 s]\n",
            "[Epoch 160][TRAIN on 687 [Loss: 0.1039  ACC: 0.9651]][VAL on 170 [Loss: 0.3969  ACC: 0.8765]][TIME: 0 m 10 s]\n",
            "[Epoch 161][TRAIN on 687 [Loss: 0.1102  ACC: 0.9636]][VAL on 170 [Loss: 0.4068  ACC: 0.8647]][TIME: 0 m 10 s]\n",
            "[Epoch 162][TRAIN on 687 [Loss: 0.1180  ACC: 0.9520]][VAL on 170 [Loss: 0.4020  ACC: 0.8706]][TIME: 0 m 10 s]\n",
            "[Epoch 163][TRAIN on 687 [Loss: 0.1040  ACC: 0.9665]][VAL on 170 [Loss: 0.4011  ACC: 0.8706]][TIME: 0 m 10 s]\n",
            "[Epoch 164][TRAIN on 687 [Loss: 0.1072  ACC: 0.9665]][VAL on 170 [Loss: 0.4009  ACC: 0.8706]][TIME: 0 m 10 s]\n",
            "[Epoch 165][TRAIN on 687 [Loss: 0.1060  ACC: 0.9680]][VAL on 170 [Loss: 0.3943  ACC: 0.8765]][TIME: 0 m 10 s]\n",
            "[Epoch 166][TRAIN on 687 [Loss: 0.0913  ACC: 0.9782]][VAL on 170 [Loss: 0.3972  ACC: 0.8824]][TIME: 0 m 10 s]\n",
            "[Epoch 167][TRAIN on 687 [Loss: 0.0932  ACC: 0.9796]][VAL on 170 [Loss: 0.3971  ACC: 0.8824]][TIME: 0 m 10 s]\n",
            "[Epoch 168][TRAIN on 687 [Loss: 0.0936  ACC: 0.9738]][VAL on 170 [Loss: 0.3934  ACC: 0.8824]][TIME: 0 m 10 s]\n",
            "     .... Saving best weights ....\n",
            "[Epoch 169][TRAIN on 687 [Loss: 0.1021  ACC: 0.9607]][VAL on 170 [Loss: 0.3980  ACC: 0.8824]][TIME: 0 m 10 s]\n",
            "[Epoch 170][TRAIN on 687 [Loss: 0.1039  ACC: 0.9665]][VAL on 170 [Loss: 0.4006  ACC: 0.8706]][TIME: 0 m 10 s]\n",
            "[Epoch 171][TRAIN on 687 [Loss: 0.0920  ACC: 0.9694]][VAL on 170 [Loss: 0.3962  ACC: 0.8824]][TIME: 0 m 10 s]\n",
            "[Epoch 172][TRAIN on 687 [Loss: 0.1073  ACC: 0.9607]][VAL on 170 [Loss: 0.3943  ACC: 0.8824]][TIME: 0 m 10 s]\n",
            "[Epoch 173][TRAIN on 687 [Loss: 0.0907  ACC: 0.9694]][VAL on 170 [Loss: 0.3934  ACC: 0.8882]][TIME: 0 m 10 s]\n",
            "     .... Saving best weights ....\n",
            "[Epoch 174][TRAIN on 687 [Loss: 0.1191  ACC: 0.9534]][VAL on 170 [Loss: 0.3979  ACC: 0.8765]][TIME: 0 m 10 s]\n",
            "[Epoch 175][TRAIN on 687 [Loss: 0.0848  ACC: 0.9709]][VAL on 170 [Loss: 0.3970  ACC: 0.8882]][TIME: 0 m 10 s]\n",
            "[Epoch 176][TRAIN on 687 [Loss: 0.1061  ACC: 0.9665]][VAL on 170 [Loss: 0.3951  ACC: 0.8765]][TIME: 0 m 10 s]\n",
            "[Epoch 177][TRAIN on 687 [Loss: 0.0891  ACC: 0.9782]][VAL on 170 [Loss: 0.3970  ACC: 0.8706]][TIME: 0 m 10 s]\n",
            "[Epoch 178][TRAIN on 687 [Loss: 0.1070  ACC: 0.9622]][VAL on 170 [Loss: 0.3946  ACC: 0.8824]][TIME: 0 m 10 s]\n",
            "[Epoch 179][TRAIN on 687 [Loss: 0.0847  ACC: 0.9738]][VAL on 170 [Loss: 0.3975  ACC: 0.8706]][TIME: 0 m 10 s]\n",
            "[Epoch 180][TRAIN on 687 [Loss: 0.0921  ACC: 0.9694]][VAL on 170 [Loss: 0.3996  ACC: 0.8824]][TIME: 0 m 10 s]\n",
            "[Epoch 181][TRAIN on 687 [Loss: 0.0929  ACC: 0.9680]][VAL on 170 [Loss: 0.4016  ACC: 0.8765]][TIME: 0 m 10 s]\n",
            "[Epoch 182][TRAIN on 687 [Loss: 0.1047  ACC: 0.9622]][VAL on 170 [Loss: 0.4006  ACC: 0.8765]][TIME: 0 m 10 s]\n",
            "[Epoch 183][TRAIN on 687 [Loss: 0.1016  ACC: 0.9622]][VAL on 170 [Loss: 0.3970  ACC: 0.8882]][TIME: 0 m 10 s]\n",
            "[Epoch 184][TRAIN on 687 [Loss: 0.0880  ACC: 0.9694]][VAL on 170 [Loss: 0.3985  ACC: 0.8882]][TIME: 0 m 10 s]\n",
            "[Epoch 185][TRAIN on 687 [Loss: 0.0888  ACC: 0.9738]][VAL on 170 [Loss: 0.3997  ACC: 0.8882]][TIME: 0 m 10 s]\n",
            "[Epoch 186][TRAIN on 687 [Loss: 0.0910  ACC: 0.9709]][VAL on 170 [Loss: 0.3996  ACC: 0.8882]][TIME: 0 m 10 s]\n",
            "[Epoch 187][TRAIN on 687 [Loss: 0.0956  ACC: 0.9709]][VAL on 170 [Loss: 0.4010  ACC: 0.8824]][TIME: 0 m 10 s]\n",
            "[Epoch 188][TRAIN on 687 [Loss: 0.0986  ACC: 0.9636]][VAL on 170 [Loss: 0.4000  ACC: 0.8765]][TIME: 0 m 10 s]\n",
            "[Epoch 189][TRAIN on 687 [Loss: 0.0842  ACC: 0.9738]][VAL on 170 [Loss: 0.4012  ACC: 0.8765]][TIME: 0 m 10 s]\n",
            "[Epoch 190][TRAIN on 687 [Loss: 0.0823  ACC: 0.9767]][VAL on 170 [Loss: 0.4045  ACC: 0.8706]][TIME: 0 m 10 s]\n",
            "[Epoch 191][TRAIN on 687 [Loss: 0.0925  ACC: 0.9680]][VAL on 170 [Loss: 0.4004  ACC: 0.8765]][TIME: 0 m 10 s]\n",
            "[Epoch 192][TRAIN on 687 [Loss: 0.0891  ACC: 0.9680]][VAL on 170 [Loss: 0.3980  ACC: 0.8882]][TIME: 0 m 10 s]\n",
            "[Epoch 193][TRAIN on 687 [Loss: 0.0978  ACC: 0.9651]][VAL on 170 [Loss: 0.3983  ACC: 0.8882]][TIME: 0 m 10 s]\n",
            "[Epoch 194][TRAIN on 687 [Loss: 0.0827  ACC: 0.9767]][VAL on 170 [Loss: 0.4007  ACC: 0.8941]][TIME: 0 m 10 s]\n",
            "     .... Saving best weights ....\n",
            "[Epoch 195][TRAIN on 687 [Loss: 0.0814  ACC: 0.9753]][VAL on 170 [Loss: 0.3973  ACC: 0.8941]][TIME: 0 m 10 s]\n",
            "     .... Saving best weights ....\n",
            "[Epoch 196][TRAIN on 687 [Loss: 0.0789  ACC: 0.9767]][VAL on 170 [Loss: 0.3976  ACC: 0.8941]][TIME: 0 m 10 s]\n",
            "[Epoch 197][TRAIN on 687 [Loss: 0.0935  ACC: 0.9738]][VAL on 170 [Loss: 0.3983  ACC: 0.8824]][TIME: 0 m 10 s]\n",
            "[Epoch 198][TRAIN on 687 [Loss: 0.0822  ACC: 0.9753]][VAL on 170 [Loss: 0.4028  ACC: 0.8882]][TIME: 0 m 10 s]\n",
            "[Epoch 199][TRAIN on 687 [Loss: 0.1016  ACC: 0.9694]][VAL on 170 [Loss: 0.4040  ACC: 0.8824]][TIME: 0 m 10 s]\n",
            "[Epoch 200][TRAIN on 687 [Loss: 0.0763  ACC: 0.9767]][VAL on 170 [Loss: 0.4051  ACC: 0.8882]][TIME: 0 m 10 s]\n",
            "[Epoch 201][TRAIN on 687 [Loss: 0.0764  ACC: 0.9825]][VAL on 170 [Loss: 0.4042  ACC: 0.8824]][TIME: 0 m 10 s]\n",
            "[Epoch 202][TRAIN on 687 [Loss: 0.0720  ACC: 0.9782]][VAL on 170 [Loss: 0.4055  ACC: 0.8941]][TIME: 0 m 10 s]\n",
            "[Epoch 203][TRAIN on 687 [Loss: 0.0902  ACC: 0.9680]][VAL on 170 [Loss: 0.4078  ACC: 0.8824]][TIME: 0 m 10 s]\n",
            "[Epoch 204][TRAIN on 687 [Loss: 0.0822  ACC: 0.9723]][VAL on 170 [Loss: 0.4026  ACC: 0.8882]][TIME: 0 m 10 s]\n",
            "[Epoch 205][TRAIN on 687 [Loss: 0.0808  ACC: 0.9738]][VAL on 170 [Loss: 0.4041  ACC: 0.8706]][TIME: 0 m 10 s]\n",
            "[Epoch 206][TRAIN on 687 [Loss: 0.0835  ACC: 0.9709]][VAL on 170 [Loss: 0.4072  ACC: 0.8765]][TIME: 0 m 10 s]\n",
            "[Epoch 207][TRAIN on 687 [Loss: 0.0757  ACC: 0.9767]][VAL on 170 [Loss: 0.4064  ACC: 0.8882]][TIME: 0 m 10 s]\n",
            "[Epoch 208][TRAIN on 687 [Loss: 0.0783  ACC: 0.9796]][VAL on 170 [Loss: 0.4060  ACC: 0.8765]][TIME: 0 m 10 s]\n",
            "[Epoch 209][TRAIN on 687 [Loss: 0.0657  ACC: 0.9796]][VAL on 170 [Loss: 0.4047  ACC: 0.8941]][TIME: 0 m 10 s]\n",
            "[Epoch 210][TRAIN on 687 [Loss: 0.0721  ACC: 0.9782]][VAL on 170 [Loss: 0.4058  ACC: 0.8882]][TIME: 0 m 10 s]\n",
            "[Epoch 211][TRAIN on 687 [Loss: 0.0748  ACC: 0.9767]][VAL on 170 [Loss: 0.4049  ACC: 0.8647]][TIME: 0 m 10 s]\n",
            "[Epoch 212][TRAIN on 687 [Loss: 0.0658  ACC: 0.9825]][VAL on 170 [Loss: 0.4039  ACC: 0.8882]][TIME: 0 m 10 s]\n",
            "[Epoch 213][TRAIN on 687 [Loss: 0.0788  ACC: 0.9796]][VAL on 170 [Loss: 0.4049  ACC: 0.8941]][TIME: 0 m 10 s]\n",
            "[Epoch 214][TRAIN on 687 [Loss: 0.0625  ACC: 0.9825]][VAL on 170 [Loss: 0.4095  ACC: 0.8941]][TIME: 0 m 10 s]\n",
            "[Epoch 215][TRAIN on 687 [Loss: 0.0721  ACC: 0.9782]][VAL on 170 [Loss: 0.4043  ACC: 0.8941]][TIME: 0 m 10 s]\n",
            "[Epoch 216][TRAIN on 687 [Loss: 0.0665  ACC: 0.9811]][VAL on 170 [Loss: 0.4105  ACC: 0.8706]][TIME: 0 m 10 s]\n",
            "[Epoch 217][TRAIN on 687 [Loss: 0.0716  ACC: 0.9738]][VAL on 170 [Loss: 0.4077  ACC: 0.8941]][TIME: 0 m 10 s]\n",
            "[Epoch 218][TRAIN on 687 [Loss: 0.0729  ACC: 0.9782]][VAL on 170 [Loss: 0.4073  ACC: 0.8824]][TIME: 0 m 10 s]\n",
            "[Epoch 219][TRAIN on 687 [Loss: 0.0630  ACC: 0.9811]][VAL on 170 [Loss: 0.4056  ACC: 0.8882]][TIME: 0 m 10 s]\n",
            "[Epoch 220][TRAIN on 687 [Loss: 0.0639  ACC: 0.9840]][VAL on 170 [Loss: 0.4082  ACC: 0.8882]][TIME: 0 m 10 s]\n"
          ]
        }
      ]
    },
    {
      "cell_type": "markdown",
      "metadata": {
        "id": "_DpXrJh9Lhc5"
      },
      "source": [
        "#Plot delle curve"
      ]
    },
    {
      "cell_type": "code",
      "metadata": {
        "id": "InbGX9NfLjhN",
        "colab": {
          "base_uri": "https://localhost:8080/",
          "height": 573
        },
        "outputId": "b000e643-3e2d-4c22-e4ca-a765c6097ec5"
      },
      "source": [
        "lossModel_Train = []\n",
        "lossModel_val = []\n",
        "accModel_Train = []\n",
        "accModel_val = []\n",
        "\n",
        "WeightPath = 'alexnet/'\n",
        "file = open(WeightPath + 'lossTrain.txt', 'r')\n",
        "Testo = file.readlines()\n",
        "for element in Testo:\n",
        "  lossModel_Train.append(float(element))\n",
        "\n",
        "file = open(WeightPath + 'lossVal.txt', 'r')\n",
        "Testo = file.readlines()\n",
        "for element in Testo:\n",
        "  lossModel_val.append(float(element))\n",
        "\n",
        "plt.figure()\n",
        "plt.title(\"Model: Training Vs Validation Losses\")\n",
        "plt.xlabel('Epoch')\n",
        "plt.ylabel('Loss')\n",
        "plt.plot(list(range(1,len(lossModel_Train)+1)), lossModel_Train, color='r', label=\"Training Loss\")\n",
        "plt.plot(list(range(1, len(lossModel_val)+1)), lossModel_val, color='g', label=\"Validation Loss\")\n",
        "plt.legend()\n",
        "plt.savefig(WeightPath + 'LossTrainVal.png')\n",
        "\n",
        "file = open(WeightPath + 'AccTrain.txt', 'r')\n",
        "Testo = file.readlines()\n",
        "for element in Testo:\n",
        "  accModel_Train.append(float(element))\n",
        "\n",
        "file = open(WeightPath + 'AccVal.txt', 'r')\n",
        "Testo = file.readlines()\n",
        "for element in Testo:\n",
        "  accModel_val.append(float(element))\n",
        "\n",
        "plt.figure()\n",
        "plt.title(\"Training Vs Validation Accuracies\")\n",
        "plt.xlabel('Epoch')\n",
        "plt.ylabel('Accuracy')\n",
        "plt.plot(list(range(1, len(accModel_Train)+1)), accModel_Train, color='r', label=\"Training Accuracy\")\n",
        "plt.plot(list(range(1, len(accModel_val)+1)), accModel_val, color='g', label=\"Validation Accuracy\")\n",
        "plt.legend()\n",
        "plt.savefig(WeightPath + 'AccTrainVal.png')"
      ],
      "execution_count": null,
      "outputs": [
        {
          "output_type": "display_data",
          "data": {
            "image/png": "[encoded data removed]",
            "text/plain": [
              "<Figure size 432x288 with 1 Axes>"
            ]
          },
          "metadata": {
            "needs_background": "light"
          }
        },
        {
          "output_type": "display_data",
          "data": {
            "image/png": "[encoded data removed]",
            "text/plain": [
              "<Figure size 432x288 with 1 Axes>"
            ]
          },
          "metadata": {
            "needs_background": "light"
          }
        }
      ]
    },
    {
      "cell_type": "code",
      "metadata": {
        "id": "P7llREnwhpQt"
      },
      "source": [
        "!zip -r alexnet.zip alexnet\n",
        "!cp /content/alexnet.zip gdrive/My\\ Drive/DataMining_EsercitazioneDeepLearning/"
      ],
      "execution_count": null,
      "outputs": []
    },
    {
      "cell_type": "markdown",
      "source": [
        "# Riaddestramento della rete con train + validation"
      ],
      "metadata": {
        "id": "ur2DqZoQt-D7"
      }
    },
    {
      "cell_type": "code",
      "source": [
        "from torch.utils.data import ConcatDataset\n",
        "\n",
        "print(str(dataset_sizes['training_set']) + \" Training set dimension\")\n",
        "print(str(dataset_sizes['validation_set']) + \" Validation set dimension\")\n",
        "print(str(dataset_sizes['test_set']) + \" Test set dimension\")\n",
        "\n",
        "print('-----'*5)\n",
        "\n",
        "new_image_dataset={}\n",
        "new_image_dataset['training_set'] = train + image_datasets['validation_set']\n",
        "new_image_dataset['validation_set'] = local_test\n",
        "\n",
        "new_dataloaders = {x: torch.utils.data.DataLoader(new_image_dataset[x], batch_size=4,\n",
        "                                             shuffle=True, num_workers=4) for x in ['training_set', 'validation_set']}\n",
        "\n",
        "new_dataset_size = {x: len(new_image_dataset[x]) for x in ['training_set', 'validation_set']}\n",
        "\n",
        "#dataset_train_val = ConcatDataset([dataloaders['training_set'], dataloaders['validation_set']])\n",
        "\n",
        "\n",
        "print(str(new_dataset_size['training_set']) + \" Training + Validation set dimension\")\n",
        "print(str(new_dataset_size['validation_set']) + \" Test set dimension\")\n",
        "\n"
      ],
      "metadata": {
        "colab": {
          "base_uri": "https://localhost:8080/",
          "height": 394
        },
        "id": "Phtc8ewmuBuE",
        "outputId": "834414e4-f56b-4dc2-bb5b-b3463d634c62"
      },
      "execution_count": null,
      "outputs": [
        {
          "output_type": "stream",
          "name": "stdout",
          "text": [
            "687 Training set dimension\n",
            "170 Validation set dimension\n",
            "170 Test set dimension\n",
            "-------------------------\n",
            "857 Training + Validation set dimension\n",
            "170 Test set dimension\n"
          ]
        },
        {
          "output_type": "stream",
          "name": "stderr",
          "text": [
            "/usr/local/lib/python3.7/dist-packages/torch/utils/data/dataloader.py:481: UserWarning: This DataLoader will create 4 worker processes in total. Our suggested max number of worker in current system is 2, which is smaller than what this DataLoader is going to create. Please be aware that excessive worker creation might get DataLoader running slow or even freeze, lower the worker number to avoid potential slowness/freeze if necessary.\n",
            "  cpuset_checked))\n"
          ]
        },
        {
          "output_type": "error",
          "ename": "NameError",
          "evalue": "ignored",
          "traceback": [
            "\u001b[0;31m---------------------------------------------------------------------------\u001b[0m",
            "\u001b[0;31mNameError\u001b[0m                                 Traceback (most recent call last)",
            "\u001b[0;32m<ipython-input-16-45baa475be58>\u001b[0m in \u001b[0;36m<module>\u001b[0;34m()\u001b[0m\n\u001b[1;32m     22\u001b[0m \u001b[0mprint\u001b[0m\u001b[0;34m(\u001b[0m\u001b[0mstr\u001b[0m\u001b[0;34m(\u001b[0m\u001b[0mnew_dataset_size\u001b[0m\u001b[0;34m[\u001b[0m\u001b[0;34m'validation_set'\u001b[0m\u001b[0;34m]\u001b[0m\u001b[0;34m)\u001b[0m \u001b[0;34m+\u001b[0m \u001b[0;34m\" Test set dimension\"\u001b[0m\u001b[0;34m)\u001b[0m\u001b[0;34m\u001b[0m\u001b[0;34m\u001b[0m\u001b[0m\n\u001b[1;32m     23\u001b[0m \u001b[0;34m\u001b[0m\u001b[0m\n\u001b[0;32m---> 24\u001b[0;31m \u001b[0mmodel_conv\u001b[0m \u001b[0;34m=\u001b[0m \u001b[0mmodel_conv\u001b[0m\u001b[0;34m.\u001b[0m\u001b[0mcuda\u001b[0m\u001b[0;34m(\u001b[0m\u001b[0;34m)\u001b[0m\u001b[0;34m\u001b[0m\u001b[0;34m\u001b[0m\u001b[0m\n\u001b[0m\u001b[1;32m     25\u001b[0m \u001b[0mcriterion\u001b[0m \u001b[0;34m=\u001b[0m \u001b[0mnn\u001b[0m\u001b[0;34m.\u001b[0m\u001b[0mCrossEntropyLoss\u001b[0m\u001b[0;34m(\u001b[0m\u001b[0;34m)\u001b[0m\u001b[0;34m\u001b[0m\u001b[0;34m\u001b[0m\u001b[0m\n\u001b[1;32m     26\u001b[0m \u001b[0moptimizer_conv\u001b[0m \u001b[0;34m=\u001b[0m \u001b[0moptim\u001b[0m\u001b[0;34m.\u001b[0m\u001b[0mAdam\u001b[0m\u001b[0;34m(\u001b[0m\u001b[0mmodel_conv\u001b[0m\u001b[0;34m.\u001b[0m\u001b[0mclassifier\u001b[0m\u001b[0;34m.\u001b[0m\u001b[0mparameters\u001b[0m\u001b[0;34m(\u001b[0m\u001b[0;34m)\u001b[0m\u001b[0;34m,\u001b[0m \u001b[0mlr\u001b[0m\u001b[0;34m=\u001b[0m\u001b[0mlearning_rate\u001b[0m\u001b[0;34m)\u001b[0m\u001b[0;34m\u001b[0m\u001b[0;34m\u001b[0m\u001b[0m\n",
            "\u001b[0;31mNameError\u001b[0m: name 'model_conv' is not defined"
          ]
        }
      ]
    },
    {
      "cell_type": "markdown",
      "source": [
        "# Grafici per il riaddestramento"
      ],
      "metadata": {
        "id": "oDzav6sxf4Ea"
      }
    },
    {
      "cell_type": "code",
      "source": [
        ""
      ],
      "metadata": {
        "id": "CNsM1Xrwf75X"
      },
      "execution_count": null,
      "outputs": []
    },
    {
      "cell_type": "markdown",
      "source": [
        "# Riaddestramento"
      ],
      "metadata": {
        "id": "bl-4eNaAf8P4"
      }
    },
    {
      "cell_type": "code",
      "source": [
        "model_conv = model_conv.cuda()\n",
        "criterion = nn.CrossEntropyLoss()\n",
        "optimizer_conv = optim.Adam(model_conv.classifier.parameters(), lr=learning_rate)\n"
      ],
      "metadata": {
        "id": "k6n48g67f3KT"
      },
      "execution_count": null,
      "outputs": []
    },
    {
      "cell_type": "code",
      "source": [
        "# -----------------------------------train model--------------------------------------------------  \n",
        "startEpoch =1\n",
        "best_acc = 0\n",
        "best_loss=0\n",
        "best_epoca = 0\n",
        "\n",
        "\n",
        "retrain_loop_validation(new_dataloaders, startEpoch, 35, model_conv, criterion, optimizer_conv, best_acc, best_loss, best_epoca, WeightPath)\n"
      ],
      "metadata": {
        "colab": {
          "base_uri": "https://localhost:8080/"
        },
        "id": "REy6S-kx6Hkt",
        "outputId": "6a39cc76-0be2-4bca-e13d-950b1e30607b"
      },
      "execution_count": null,
      "outputs": [
        {
          "output_type": "stream",
          "name": "stderr",
          "text": [
            "/usr/local/lib/python3.7/dist-packages/torch/utils/data/dataloader.py:481: UserWarning: This DataLoader will create 4 worker processes in total. Our suggested max number of worker in current system is 2, which is smaller than what this DataLoader is going to create. Please be aware that excessive worker creation might get DataLoader running slow or even freeze, lower the worker number to avoid potential slowness/freeze if necessary.\n",
            "  cpuset_checked))\n"
          ]
        },
        {
          "output_type": "stream",
          "name": "stdout",
          "text": [
            "[Epoch 1][TRAIN on 857 [Loss: 0.1002  ACC: 0.9615]][VAL on 170 [Loss: 0.0990  ACC: 0.9706]][TIME: 0 m 15 s]\n",
            "[Epoch 2][TRAIN on 857 [Loss: 0.0942  ACC: 0.9697]][VAL on 170 [Loss: 0.0990  ACC: 0.9706]][TIME: 0 m 15 s]\n",
            "[Epoch 3][TRAIN on 857 [Loss: 0.0715  ACC: 0.9767]][VAL on 170 [Loss: 0.0990  ACC: 0.9706]][TIME: 0 m 15 s]\n",
            "[Epoch 4][TRAIN on 857 [Loss: 0.0847  ACC: 0.9708]][VAL on 170 [Loss: 0.0990  ACC: 0.9706]][TIME: 0 m 15 s]\n",
            "[Epoch 5][TRAIN on 857 [Loss: 0.0849  ACC: 0.9708]][VAL on 170 [Loss: 0.0990  ACC: 0.9706]][TIME: 0 m 15 s]\n",
            "[Epoch 6][TRAIN on 857 [Loss: 0.0879  ACC: 0.9662]][VAL on 170 [Loss: 0.0990  ACC: 0.9706]][TIME: 0 m 15 s]\n",
            "[Epoch 7][TRAIN on 857 [Loss: 0.0810  ACC: 0.9720]][VAL on 170 [Loss: 0.0990  ACC: 0.9706]][TIME: 0 m 15 s]\n",
            "[Epoch 8][TRAIN on 857 [Loss: 0.0872  ACC: 0.9697]][VAL on 170 [Loss: 0.0990  ACC: 0.9706]][TIME: 0 m 15 s]\n",
            "[Epoch 9][TRAIN on 857 [Loss: 0.0857  ACC: 0.9732]][VAL on 170 [Loss: 0.0990  ACC: 0.9706]][TIME: 0 m 15 s]\n",
            "[Epoch 10][TRAIN on 857 [Loss: 0.1043  ACC: 0.9615]][VAL on 170 [Loss: 0.0990  ACC: 0.9706]][TIME: 0 m 16 s]\n",
            "[Epoch 11][TRAIN on 857 [Loss: 0.0792  ACC: 0.9708]][VAL on 170 [Loss: 0.0990  ACC: 0.9706]][TIME: 0 m 15 s]\n",
            "[Epoch 12][TRAIN on 857 [Loss: 0.0928  ACC: 0.9673]][VAL on 170 [Loss: 0.0990  ACC: 0.9706]][TIME: 0 m 15 s]\n",
            "[Epoch 13][TRAIN on 857 [Loss: 0.0709  ACC: 0.9743]][VAL on 170 [Loss: 0.0990  ACC: 0.9706]][TIME: 0 m 15 s]\n",
            "[Epoch 14][TRAIN on 857 [Loss: 0.0872  ACC: 0.9697]][VAL on 170 [Loss: 0.0990  ACC: 0.9706]][TIME: 0 m 15 s]\n",
            "[Epoch 15][TRAIN on 857 [Loss: 0.0813  ACC: 0.9708]][VAL on 170 [Loss: 0.0990  ACC: 0.9706]][TIME: 0 m 15 s]\n",
            "[Epoch 16][TRAIN on 857 [Loss: 0.0916  ACC: 0.9662]][VAL on 170 [Loss: 0.0990  ACC: 0.9706]][TIME: 0 m 15 s]\n",
            "[Epoch 17][TRAIN on 857 [Loss: 0.0826  ACC: 0.9697]][VAL on 170 [Loss: 0.0990  ACC: 0.9706]][TIME: 0 m 15 s]\n",
            "[Epoch 18][TRAIN on 857 [Loss: 0.0964  ACC: 0.9650]][VAL on 170 [Loss: 0.0990  ACC: 0.9706]][TIME: 0 m 15 s]\n",
            "[Epoch 19][TRAIN on 857 [Loss: 0.0822  ACC: 0.9662]][VAL on 170 [Loss: 0.0990  ACC: 0.9706]][TIME: 0 m 15 s]\n",
            "[Epoch 20][TRAIN on 857 [Loss: 0.0643  ACC: 0.9778]][VAL on 170 [Loss: 0.0990  ACC: 0.9706]][TIME: 0 m 15 s]\n",
            "[Epoch 21][TRAIN on 857 [Loss: 0.0901  ACC: 0.9638]][VAL on 170 [Loss: 0.0990  ACC: 0.9706]][TIME: 0 m 15 s]\n",
            "[Epoch 22][TRAIN on 857 [Loss: 0.0880  ACC: 0.9673]][VAL on 170 [Loss: 0.0990  ACC: 0.9706]][TIME: 0 m 15 s]\n",
            "[Epoch 23][TRAIN on 857 [Loss: 0.0795  ACC: 0.9778]][VAL on 170 [Loss: 0.0990  ACC: 0.9706]][TIME: 0 m 15 s]\n",
            "[Epoch 24][TRAIN on 857 [Loss: 0.0787  ACC: 0.9662]][VAL on 170 [Loss: 0.0990  ACC: 0.9706]][TIME: 0 m 15 s]\n",
            "[Epoch 25][TRAIN on 857 [Loss: 0.0871  ACC: 0.9697]][VAL on 170 [Loss: 0.0990  ACC: 0.9706]][TIME: 0 m 15 s]\n",
            "[Epoch 26][TRAIN on 857 [Loss: 0.0800  ACC: 0.9673]][VAL on 170 [Loss: 0.0990  ACC: 0.9706]][TIME: 0 m 15 s]\n",
            "[Epoch 27][TRAIN on 857 [Loss: 0.0918  ACC: 0.9697]][VAL on 170 [Loss: 0.0990  ACC: 0.9706]][TIME: 0 m 15 s]\n",
            "[Epoch 28][TRAIN on 857 [Loss: 0.0921  ACC: 0.9650]][VAL on 170 [Loss: 0.0990  ACC: 0.9706]][TIME: 0 m 15 s]\n",
            "[Epoch 29][TRAIN on 857 [Loss: 0.0781  ACC: 0.9755]][VAL on 170 [Loss: 0.0990  ACC: 0.9706]][TIME: 0 m 15 s]\n",
            "[Epoch 30][TRAIN on 857 [Loss: 0.0937  ACC: 0.9627]][VAL on 170 [Loss: 0.0990  ACC: 0.9706]][TIME: 0 m 15 s]\n",
            "[Epoch 31][TRAIN on 857 [Loss: 0.0943  ACC: 0.9592]][VAL on 170 [Loss: 0.0990  ACC: 0.9706]][TIME: 0 m 15 s]\n",
            "[Epoch 32][TRAIN on 857 [Loss: 0.0847  ACC: 0.9708]][VAL on 170 [Loss: 0.0990  ACC: 0.9706]][TIME: 0 m 15 s]\n",
            "[Epoch 33][TRAIN on 857 [Loss: 0.1001  ACC: 0.9627]][VAL on 170 [Loss: 0.0990  ACC: 0.9706]][TIME: 0 m 15 s]\n",
            "[Epoch 34][TRAIN on 857 [Loss: 0.0774  ACC: 0.9755]][VAL on 170 [Loss: 0.0990  ACC: 0.9706]][TIME: 0 m 15 s]\n",
            "[Epoch 35][TRAIN on 857 [Loss: 0.0908  ACC: 0.9673]][VAL on 170 [Loss: 0.0990  ACC: 0.9706]][TIME: 0 m 15 s]\n",
            "     .... Saving best weights ....\n"
          ]
        }
      ]
    },
    {
      "cell_type": "markdown",
      "source": [
        "# Plot delle curve di nuovo"
      ],
      "metadata": {
        "id": "hJRIc73oEuLX"
      }
    },
    {
      "cell_type": "code",
      "source": [
        "lossModel_Train = []\n",
        "lossModel_val = []\n",
        "accModel_Train = []\n",
        "accModel_val = []\n",
        "\n",
        "WeightPath = 'alexnet/'\n",
        "file = open(WeightPath + 'lossTrain.txt', 'r')\n",
        "Testo = file.readlines()\n",
        "for element in Testo:\n",
        "  lossModel_Train.append(float(element))\n",
        "\n",
        "file = open(WeightPath + 'lossVal.txt', 'r')\n",
        "Testo = file.readlines()\n",
        "for element in Testo:\n",
        "  lossModel_val.append(float(element))\n",
        "\n",
        "plt.figure()\n",
        "plt.title(\"Model: Training Vs Validation Losses\")\n",
        "plt.xlabel('Epoch')\n",
        "plt.ylabel('Loss')\n",
        "plt.plot(list(range(1,len(lossModel_Train)+1)), lossModel_Train, color='r', label=\"Training Loss\")\n",
        "plt.plot(list(range(1, len(lossModel_val)+1)), lossModel_val, color='g', label=\"Validation Loss\")\n",
        "plt.legend()\n",
        "plt.savefig(WeightPath + 'LossTrainVal.png')\n",
        "\n",
        "file = open(WeightPath + 'AccTrain.txt', 'r')\n",
        "Testo = file.readlines()\n",
        "for element in Testo:\n",
        "  accModel_Train.append(float(element))\n",
        "\n",
        "file = open(WeightPath + 'AccVal.txt', 'r')\n",
        "Testo = file.readlines()\n",
        "for element in Testo:\n",
        "  accModel_val.append(float(element))\n",
        "\n",
        "plt.figure()\n",
        "plt.title(\"Training Vs Validation Accuracies\")\n",
        "plt.xlabel('Epoch')\n",
        "plt.ylabel('Accuracy')\n",
        "plt.plot(list(range(1, len(accModel_Train)+1)), accModel_Train, color='r', label=\"Training Accuracy\")\n",
        "plt.plot(list(range(1, len(accModel_val)+1)), accModel_val, color='g', label=\"Validation Accuracy\")\n",
        "plt.legend()\n",
        "plt.savefig(WeightPath + 'AccTrainVal.png')"
      ],
      "metadata": {
        "colab": {
          "base_uri": "https://localhost:8080/",
          "height": 573
        },
        "id": "NpEKo9eHEzzU",
        "outputId": "d176e98c-3eb9-4cad-8b56-e93f41288f20"
      },
      "execution_count": null,
      "outputs": [
        {
          "output_type": "display_data",
          "data": {
            "image/png": "[encoded data removed]",
            "text/plain": [
              "<Figure size 432x288 with 1 Axes>"
            ]
          },
          "metadata": {
            "needs_background": "light"
          }
        },
        {
          "output_type": "display_data",
          "data": {
            "image/png": "[encoded data removed]",
            "text/plain": [
              "<Figure size 432x288 with 1 Axes>"
            ]
          },
          "metadata": {
            "needs_background": "light"
          }
        }
      ]
    },
    {
      "cell_type": "markdown",
      "source": [
        "# Predizione sul test locale"
      ],
      "metadata": {
        "id": "6hDYvBOGtkv_"
      }
    },
    {
      "cell_type": "code",
      "source": [
        "from PIL import Image\n",
        "\n",
        "\n",
        "Test_locale = pd.DataFrame()\n",
        "\n",
        "classes = ['0', '1', '2']\n",
        "#WeightPath = '/content/' + networkName\n",
        "\n",
        "model_conv = torchvision.models.alexnet(pretrained=True)\n",
        "model_conv.classifier[6] = nn.Linear(4096, set_classes_number)\n",
        "#model_conv = torchvision.models.googlenet(pretrained=True)\n",
        "#model_conv.fc = nn.Linear(1024, set_classes_number)\n",
        "\n",
        "model_conv.load_state_dict(torch.load(WeightPath + '/best_model_weights.pth'))\n",
        "\n",
        "\n",
        "#model_conv.load_state_dict(torch.load('/content/gdrive/My Drive/DataMining_EsercitazioneDeepLearning/AlexNet/' + '/best_weight.pth'))\n",
        "model_conv = model_conv.cuda()\n",
        "model_conv.eval()\n",
        "\n",
        "#file = iter(dataloaders['test_set']).numpy()\n",
        "\n",
        "#out=torch.from_numpy(file).float().cuda()\n",
        "#outputs = model_conv(out)\n",
        "#_, predicted = torch.max(outputs, 1)\n",
        "\n",
        "modelAcc_test_loc = 0.0\n",
        "totalSize_test_loc = 0\n",
        "\n",
        "\n",
        "for inputs, labels in new_dataloaders['validation_set']:\n",
        "    inputs = inputs.type(torch.FloatTensor).cuda()\n",
        "    labels = labels.cuda()\n",
        "      \n",
        "    y = model_conv(inputs) #16x29\n",
        "    outp, preds = torch.max(y, 1) \n",
        "    totalSize_test_loc += inputs.size(0)\n",
        "    modelAcc_test_loc += torch.sum(preds == labels.data).item()\n",
        "    \n",
        "      \n",
        "modelAcc_test_loc = modelAcc_test_loc/totalSize_test_loc\n",
        "print(modelAcc_test_loc)"
      ],
      "metadata": {
        "colab": {
          "base_uri": "https://localhost:8080/"
        },
        "id": "_igErsImfcqw",
        "outputId": "72adda79-8b8b-4df4-a9b0-ec11d5e27c87"
      },
      "execution_count": null,
      "outputs": [
        {
          "output_type": "stream",
          "name": "stderr",
          "text": [
            "/usr/local/lib/python3.7/dist-packages/torch/utils/data/dataloader.py:481: UserWarning: This DataLoader will create 4 worker processes in total. Our suggested max number of worker in current system is 2, which is smaller than what this DataLoader is going to create. Please be aware that excessive worker creation might get DataLoader running slow or even freeze, lower the worker number to avoid potential slowness/freeze if necessary.\n",
            "  cpuset_checked))\n"
          ]
        },
        {
          "output_type": "stream",
          "name": "stdout",
          "text": [
            "0.9647058823529412\n"
          ]
        }
      ]
    },
    {
      "cell_type": "markdown",
      "source": [
        "# Unione tra train-validation-test"
      ],
      "metadata": {
        "id": "UzEiecQGJ2a3"
      }
    },
    {
      "cell_type": "code",
      "source": [
        "from torch.utils.data import ConcatDataset\n",
        "\n",
        "print('-----'*5)\n",
        "\n",
        "#new_image_dataset={}\n",
        "#new_image_dataset['training_set'] = train + image_datasets['validation_set']\n",
        "#new_image_dataset['validation_set'] = local_test\n",
        "\n",
        "new_image_dataset_totale = {}\n",
        "new_image_dataset_totale['training_set'] = new_image_dataset['training_set'] + new_image_dataset['validation_set']\n",
        "new_image_dataset_totale['validation_set'] = new_image_dataset['validation_set']\n",
        "\n",
        "\n",
        "new_dataloaders_finale = {x: torch.utils.data.DataLoader(new_image_dataset_totale[x], batch_size=4,\n",
        "                                             shuffle=True, num_workers=4) for x in ['training_set', 'validation_set']}\n",
        "\n",
        "new_dataset_size_finale = {x: len(new_image_dataset_totale[x]) for x in ['training_set', 'validation_set']}\n",
        "\n",
        "#dataset_train_val = ConcatDataset([dataloaders['training_set'], dataloaders['validation_set']])\n",
        "\n",
        "\n",
        "print(str(new_dataset_size_finale['training_set']) + \" Training + Validation + Test set dimension\")\n",
        "print(str(new_dataset_size['validation_set']) + \" Test set dimension\")"
      ],
      "metadata": {
        "colab": {
          "base_uri": "https://localhost:8080/"
        },
        "id": "S4EYJZ-YKCJW",
        "outputId": "f98c9c94-b199-496a-82a9-181fe9c76883"
      },
      "execution_count": null,
      "outputs": [
        {
          "output_type": "stream",
          "name": "stdout",
          "text": [
            "-------------------------\n",
            "1027 Training + Validation + Test set dimension\n",
            "170 Test set dimension\n"
          ]
        },
        {
          "output_type": "stream",
          "name": "stderr",
          "text": [
            "/usr/local/lib/python3.7/dist-packages/torch/utils/data/dataloader.py:481: UserWarning: This DataLoader will create 4 worker processes in total. Our suggested max number of worker in current system is 2, which is smaller than what this DataLoader is going to create. Please be aware that excessive worker creation might get DataLoader running slow or even freeze, lower the worker number to avoid potential slowness/freeze if necessary.\n",
            "  cpuset_checked))\n"
          ]
        }
      ]
    },
    {
      "cell_type": "markdown",
      "source": [
        "# Ri-Riallenamento della rete con tutti i dati con prova a cazzo sul test"
      ],
      "metadata": {
        "id": "Dc8T4x9xMKNP"
      }
    },
    {
      "cell_type": "code",
      "source": [
        "startEpoch =1\n",
        "best_acc = 0\n",
        "best_loss=0\n",
        "best_epoca = 0\n",
        "\n",
        "retrain_loop_validation(new_dataloaders_finale, startEpoch, 35, model_conv, criterion, optimizer_conv, best_acc, best_loss, best_epoca, WeightPath)\n"
      ],
      "metadata": {
        "colab": {
          "base_uri": "https://localhost:8080/"
        },
        "id": "lD93Z7baMR1l",
        "outputId": "baa4b50e-d2b3-4b0c-c586-0e21034b1a10"
      },
      "execution_count": null,
      "outputs": [
        {
          "output_type": "stream",
          "name": "stderr",
          "text": [
            "/usr/local/lib/python3.7/dist-packages/torch/utils/data/dataloader.py:481: UserWarning: This DataLoader will create 4 worker processes in total. Our suggested max number of worker in current system is 2, which is smaller than what this DataLoader is going to create. Please be aware that excessive worker creation might get DataLoader running slow or even freeze, lower the worker number to avoid potential slowness/freeze if necessary.\n",
            "  cpuset_checked))\n"
          ]
        },
        {
          "output_type": "stream",
          "name": "stdout",
          "text": [
            "[Epoch 1][TRAIN on 1027 [Loss: 0.1012  ACC: 0.9649]][VAL on 170 [Loss: 0.0990  ACC: 0.9706]][TIME: 0 m 18 s]\n",
            "[Epoch 2][TRAIN on 1027 [Loss: 0.0873  ACC: 0.9737]][VAL on 170 [Loss: 0.0990  ACC: 0.9706]][TIME: 0 m 18 s]\n",
            "[Epoch 3][TRAIN on 1027 [Loss: 0.1021  ACC: 0.9679]][VAL on 170 [Loss: 0.0990  ACC: 0.9706]][TIME: 0 m 18 s]\n",
            "[Epoch 4][TRAIN on 1027 [Loss: 0.0814  ACC: 0.9708]][VAL on 170 [Loss: 0.0990  ACC: 0.9706]][TIME: 0 m 17 s]\n",
            "[Epoch 5][TRAIN on 1027 [Loss: 0.0873  ACC: 0.9679]][VAL on 170 [Loss: 0.0990  ACC: 0.9706]][TIME: 0 m 17 s]\n",
            "[Epoch 6][TRAIN on 1027 [Loss: 0.0930  ACC: 0.9601]][VAL on 170 [Loss: 0.0990  ACC: 0.9706]][TIME: 0 m 17 s]\n",
            "[Epoch 7][TRAIN on 1027 [Loss: 0.0882  ACC: 0.9747]][VAL on 170 [Loss: 0.0990  ACC: 0.9706]][TIME: 0 m 17 s]\n",
            "[Epoch 8][TRAIN on 1027 [Loss: 0.1005  ACC: 0.9581]][VAL on 170 [Loss: 0.0990  ACC: 0.9706]][TIME: 0 m 17 s]\n",
            "[Epoch 9][TRAIN on 1027 [Loss: 0.0934  ACC: 0.9669]][VAL on 170 [Loss: 0.0990  ACC: 0.9706]][TIME: 0 m 17 s]\n",
            "[Epoch 10][TRAIN on 1027 [Loss: 0.0894  ACC: 0.9669]][VAL on 170 [Loss: 0.0990  ACC: 0.9706]][TIME: 0 m 17 s]\n",
            "[Epoch 11][TRAIN on 1027 [Loss: 0.0925  ACC: 0.9649]][VAL on 170 [Loss: 0.0990  ACC: 0.9706]][TIME: 0 m 17 s]\n",
            "[Epoch 12][TRAIN on 1027 [Loss: 0.1017  ACC: 0.9640]][VAL on 170 [Loss: 0.0990  ACC: 0.9706]][TIME: 0 m 17 s]\n",
            "[Epoch 13][TRAIN on 1027 [Loss: 0.0997  ACC: 0.9640]][VAL on 170 [Loss: 0.0990  ACC: 0.9706]][TIME: 0 m 17 s]\n",
            "[Epoch 14][TRAIN on 1027 [Loss: 0.0875  ACC: 0.9688]][VAL on 170 [Loss: 0.0990  ACC: 0.9706]][TIME: 0 m 17 s]\n",
            "[Epoch 15][TRAIN on 1027 [Loss: 0.0943  ACC: 0.9688]][VAL on 170 [Loss: 0.0990  ACC: 0.9706]][TIME: 0 m 17 s]\n",
            "[Epoch 16][TRAIN on 1027 [Loss: 0.0908  ACC: 0.9649]][VAL on 170 [Loss: 0.0990  ACC: 0.9706]][TIME: 0 m 17 s]\n",
            "[Epoch 17][TRAIN on 1027 [Loss: 0.0984  ACC: 0.9669]][VAL on 170 [Loss: 0.0990  ACC: 0.9706]][TIME: 0 m 17 s]\n",
            "[Epoch 18][TRAIN on 1027 [Loss: 0.1090  ACC: 0.9591]][VAL on 170 [Loss: 0.0990  ACC: 0.9706]][TIME: 0 m 17 s]\n",
            "[Epoch 19][TRAIN on 1027 [Loss: 0.0871  ACC: 0.9649]][VAL on 170 [Loss: 0.0990  ACC: 0.9706]][TIME: 0 m 17 s]\n",
            "[Epoch 20][TRAIN on 1027 [Loss: 0.1023  ACC: 0.9640]][VAL on 170 [Loss: 0.0990  ACC: 0.9706]][TIME: 0 m 17 s]\n",
            "[Epoch 21][TRAIN on 1027 [Loss: 0.0977  ACC: 0.9611]][VAL on 170 [Loss: 0.0990  ACC: 0.9706]][TIME: 0 m 17 s]\n",
            "[Epoch 22][TRAIN on 1027 [Loss: 0.0886  ACC: 0.9659]][VAL on 170 [Loss: 0.0990  ACC: 0.9706]][TIME: 0 m 17 s]\n",
            "[Epoch 23][TRAIN on 1027 [Loss: 0.0983  ACC: 0.9640]][VAL on 170 [Loss: 0.0990  ACC: 0.9706]][TIME: 0 m 17 s]\n",
            "[Epoch 24][TRAIN on 1027 [Loss: 0.0896  ACC: 0.9659]][VAL on 170 [Loss: 0.0990  ACC: 0.9706]][TIME: 0 m 17 s]\n",
            "[Epoch 25][TRAIN on 1027 [Loss: 0.0943  ACC: 0.9649]][VAL on 170 [Loss: 0.0990  ACC: 0.9706]][TIME: 0 m 17 s]\n",
            "[Epoch 26][TRAIN on 1027 [Loss: 0.0935  ACC: 0.9649]][VAL on 170 [Loss: 0.0990  ACC: 0.9706]][TIME: 0 m 17 s]\n",
            "[Epoch 27][TRAIN on 1027 [Loss: 0.0788  ACC: 0.9718]][VAL on 170 [Loss: 0.0990  ACC: 0.9706]][TIME: 0 m 17 s]\n",
            "[Epoch 28][TRAIN on 1027 [Loss: 0.0898  ACC: 0.9679]][VAL on 170 [Loss: 0.0990  ACC: 0.9706]][TIME: 0 m 17 s]\n",
            "[Epoch 29][TRAIN on 1027 [Loss: 0.1098  ACC: 0.9591]][VAL on 170 [Loss: 0.0990  ACC: 0.9706]][TIME: 0 m 17 s]\n",
            "[Epoch 30][TRAIN on 1027 [Loss: 0.1105  ACC: 0.9620]][VAL on 170 [Loss: 0.0990  ACC: 0.9706]][TIME: 0 m 17 s]\n",
            "[Epoch 31][TRAIN on 1027 [Loss: 0.0878  ACC: 0.9630]][VAL on 170 [Loss: 0.0990  ACC: 0.9706]][TIME: 0 m 17 s]\n",
            "[Epoch 32][TRAIN on 1027 [Loss: 0.0904  ACC: 0.9611]][VAL on 170 [Loss: 0.0990  ACC: 0.9706]][TIME: 0 m 17 s]\n",
            "[Epoch 33][TRAIN on 1027 [Loss: 0.0830  ACC: 0.9688]][VAL on 170 [Loss: 0.0990  ACC: 0.9706]][TIME: 0 m 17 s]\n",
            "[Epoch 34][TRAIN on 1027 [Loss: 0.0767  ACC: 0.9718]][VAL on 170 [Loss: 0.0990  ACC: 0.9706]][TIME: 0 m 17 s]\n",
            "[Epoch 35][TRAIN on 1027 [Loss: 0.0931  ACC: 0.9688]][VAL on 170 [Loss: 0.0990  ACC: 0.9706]][TIME: 0 m 17 s]\n",
            "     .... Saving best weights ....\n"
          ]
        }
      ]
    },
    {
      "cell_type": "markdown",
      "source": [
        "# Applicazione della rete sul test vero"
      ],
      "metadata": {
        "id": "lHmhq5qKtrYr"
      }
    },
    {
      "cell_type": "code",
      "metadata": {
        "id": "fowPvPFaHh1s",
        "colab": {
          "base_uri": "https://localhost:8080/"
        },
        "outputId": "66e29a86-a2a8-428b-9a05-6e085e920093"
      },
      "source": [
        "from PIL import Image\n",
        "\n",
        "\n",
        "Test = pd.DataFrame()\n",
        "\n",
        "classes = ['0', '1', '2']\n",
        "#WeightPath = '/content/' + networkName\n",
        "\n",
        "model_conv = torchvision.models.alexnet(pretrained=True)\n",
        "model_conv.classifier[6] = nn.Linear(4096, set_classes_number)\n",
        "#model_conv = torchvision.models.googlenet(pretrained=True)\n",
        "#model_conv.fc = nn.Linear(1024, set_classes_number)\n",
        "\n",
        "model_conv.load_state_dict(torch.load(WeightPath + '/best_model_weights.pth'))\n",
        "\n",
        "\n",
        "#model_conv.load_state_dict(torch.load('/content/gdrive/My Drive/DataMining_EsercitazioneDeepLearning/AlexNet/' + '/best_weight.pth'))\n",
        "model_conv = model_conv.cuda()\n",
        "model_conv.eval()\n",
        "\n",
        "data_transforms = transforms.Compose([transforms.Resize(224),\n",
        "                                      transforms.ToTensor(),\n",
        "                                      transforms.Normalize([0.485, 0.456, 0.406], [0.229, 0.224, 0.225])\n",
        "                                      ])\n",
        "\n",
        "    \n",
        "\n",
        "listFile = os.listdir('/content/drive/MyDrive/Dataset/test_set')\n",
        "for input in listFile:\n",
        "  print('Working on '+ input)\n",
        "  file = np.load('/content/drive/MyDrive/Dataset/test_set/' + input)\n",
        "  file = np.asarray(file)\n",
        "  file = np.resize(file,(224,224))   #resize\n",
        "  file = np.stack((file, file, file))   #1 to 3 channels\n",
        "  file[0,:,:] = (file[0,:,:] - 0.485)/0.229       #norm channel 0\n",
        "  file[1,:,:] = (file[1,:,:] - 0.456)/0.224       #norm channel 1\n",
        "  file[0,:,:] = (file[2,:,:] - 0.406)/0.225       #norm channel 2\n",
        "\n",
        "  file=torch.from_numpy(file).float().cuda()\n",
        "\n",
        "  file = file.unsqueeze_(0)\n",
        "  outputs = model_conv(file)\n",
        "  _, predicted = torch.max(outputs, 1)\n",
        "  Test = Test.append({'ID': input.split('.')[0],\n",
        "                      'Class': str(classes[predicted.item()])}, ignore_index = True)"
      ],
      "execution_count": null,
      "outputs": [
        {
          "output_type": "stream",
          "name": "stdout",
          "text": [
            "Working on 103.npy\n",
            "Working on 100.npy\n",
            "Working on 101.npy\n",
            "Working on 102.npy\n",
            "Working on 1.npy\n",
            "Working on 104.npy\n",
            "Working on 10.npy\n",
            "Working on 105.npy\n",
            "Working on 109.npy\n",
            "Working on 108.npy\n",
            "Working on 110.npy\n",
            "Working on 111.npy\n",
            "Working on 118.npy\n",
            "Working on 117.npy\n",
            "Working on 113.npy\n",
            "Working on 112.npy\n",
            "Working on 107.npy\n",
            "Working on 11.npy\n",
            "Working on 114.npy\n",
            "Working on 115.npy\n",
            "Working on 116.npy\n",
            "Working on 119.npy\n",
            "Working on 120.npy\n",
            "Working on 12.npy\n",
            "Working on 106.npy\n",
            "Working on 152.npy\n",
            "Working on 129.npy\n",
            "Working on 146.npy\n",
            "Working on 122.npy\n",
            "Working on 131.npy\n",
            "Working on 130.npy\n",
            "Working on 154.npy\n",
            "Working on 133.npy\n",
            "Working on 142.npy\n",
            "Working on 13.npy\n",
            "Working on 148.npy\n",
            "Working on 147.npy\n",
            "Working on 137.npy\n",
            "Working on 124.npy\n",
            "Working on 126.npy\n",
            "Working on 155.npy\n",
            "Working on 150.npy\n",
            "Working on 151.npy\n",
            "Working on 136.npy\n",
            "Working on 14.npy\n",
            "Working on 121.npy\n",
            "Working on 123.npy\n",
            "Working on 138.npy\n",
            "Working on 15.npy\n",
            "Working on 140.npy\n",
            "Working on 139.npy\n",
            "Working on 143.npy\n",
            "Working on 134.npy\n",
            "Working on 125.npy\n",
            "Working on 144.npy\n",
            "Working on 132.npy\n",
            "Working on 135.npy\n",
            "Working on 127.npy\n",
            "Working on 149.npy\n",
            "Working on 128.npy\n",
            "Working on 153.npy\n",
            "Working on 141.npy\n",
            "Working on 145.npy\n",
            "Working on 158.npy\n",
            "Working on 160.npy\n",
            "Working on 21.npy\n",
            "Working on 27.npy\n",
            "Working on 28.npy\n",
            "Working on 19.npy\n",
            "Working on 18.npy\n",
            "Working on 157.npy\n",
            "Working on 20.npy\n",
            "Working on 29.npy\n",
            "Working on 32.npy\n",
            "Working on 30.npy\n",
            "Working on 156.npy\n",
            "Working on 25.npy\n",
            "Working on 165.npy\n",
            "Working on 38.npy\n",
            "Working on 163.npy\n",
            "Working on 159.npy\n",
            "Working on 17.npy\n",
            "Working on 161.npy\n",
            "Working on 164.npy\n",
            "Working on 2.npy\n",
            "Working on 37.npy\n",
            "Working on 3.npy\n",
            "Working on 169.npy\n",
            "Working on 23.npy\n",
            "Working on 16.npy\n",
            "Working on 35.npy\n",
            "Working on 36.npy\n",
            "Working on 33.npy\n",
            "Working on 31.npy\n",
            "Working on 22.npy\n",
            "Working on 34.npy\n",
            "Working on 162.npy\n",
            "Working on 170.npy\n",
            "Working on 24.npy\n",
            "Working on 167.npy\n",
            "Working on 166.npy\n",
            "Working on 168.npy\n",
            "Working on 26.npy\n",
            "Working on 41.npy\n",
            "Working on 44.npy\n",
            "Working on 4.npy\n",
            "Working on 53.npy\n",
            "Working on 74.npy\n",
            "Working on 55.npy\n",
            "Working on 46.npy\n",
            "Working on 69.npy\n",
            "Working on 61.npy\n",
            "Working on 5.npy\n",
            "Working on 42.npy\n",
            "Working on 58.npy\n",
            "Working on 47.npy\n",
            "Working on 51.npy\n",
            "Working on 66.npy\n",
            "Working on 54.npy\n",
            "Working on 68.npy\n",
            "Working on 70.npy\n",
            "Working on 40.npy\n",
            "Working on 57.npy\n",
            "Working on 62.npy\n",
            "Working on 59.npy\n",
            "Working on 52.npy\n",
            "Working on 6.npy\n",
            "Working on 43.npy\n",
            "Working on 73.npy\n",
            "Working on 71.npy\n",
            "Working on 7.npy\n",
            "Working on 39.npy\n",
            "Working on 45.npy\n",
            "Working on 49.npy\n",
            "Working on 48.npy\n",
            "Working on 67.npy\n",
            "Working on 50.npy\n",
            "Working on 64.npy\n",
            "Working on 56.npy\n",
            "Working on 63.npy\n",
            "Working on 60.npy\n",
            "Working on 65.npy\n",
            "Working on 72.npy\n",
            "Working on 8.npy\n",
            "Working on 83.npy\n",
            "Working on 88.npy\n",
            "Working on 89.npy\n",
            "Working on 80.npy\n",
            "Working on 90.npy\n",
            "Working on 93.npy\n",
            "Working on 92.npy\n",
            "Working on 9.npy\n",
            "Working on 85.npy\n",
            "Working on 75.npy\n",
            "Working on 87.npy\n",
            "Working on 91.npy\n",
            "Working on 76.npy\n",
            "Working on 97.npy\n",
            "Working on 98.npy\n",
            "Working on 78.npy\n",
            "Working on 79.npy\n",
            "Working on 84.npy\n",
            "Working on 96.npy\n",
            "Working on 82.npy\n",
            "Working on 95.npy\n",
            "Working on 99.npy\n",
            "Working on 86.npy\n",
            "Working on 81.npy\n",
            "Working on 77.npy\n",
            "Working on 94.npy\n"
          ]
        }
      ]
    },
    {
      "cell_type": "markdown",
      "source": [
        "# Creazione del file di Submission"
      ],
      "metadata": {
        "id": "psjLkScut044"
      }
    },
    {
      "cell_type": "code",
      "source": [
        "Test.to_csv(\"Submission.csv\", index=False)"
      ],
      "metadata": {
        "id": "CIWEXcHZFTaJ"
      },
      "execution_count": null,
      "outputs": []
    }
  ]
}